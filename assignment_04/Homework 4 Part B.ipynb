{
 "cells": [
  {
   "cell_type": "markdown",
   "id": "19866ee0",
   "metadata": {},
   "source": [
    "# Homework 4 Part B\n",
    "## Ruth Iang\n",
    "## 02/26/2022"
   ]
  },
  {
   "cell_type": "markdown",
   "id": "f32eac3a",
   "metadata": {},
   "source": [
    "## Question #1"
   ]
  },
  {
   "cell_type": "code",
   "execution_count": 63,
   "id": "8ae82ce5",
   "metadata": {},
   "outputs": [],
   "source": [
    "import pandas as pd\n",
    "\n",
    "data_url = \"https://raw.githubusercontent.com/DATA-690-SPRING-2022/WANG/main/assignment_04/census_costs.txt\""
   ]
  },
  {
   "cell_type": "code",
   "execution_count": 64,
   "id": "1cd7528d",
   "metadata": {},
   "outputs": [
    {
     "data": {
      "text/html": [
       "<div>\n",
       "<style scoped>\n",
       "    .dataframe tbody tr th:only-of-type {\n",
       "        vertical-align: middle;\n",
       "    }\n",
       "\n",
       "    .dataframe tbody tr th {\n",
       "        vertical-align: top;\n",
       "    }\n",
       "\n",
       "    .dataframe thead th {\n",
       "        text-align: right;\n",
       "    }\n",
       "</style>\n",
       "<table border=\"1\" class=\"dataframe\">\n",
       "  <thead>\n",
       "    <tr style=\"text-align: right;\">\n",
       "      <th></th>\n",
       "      <th>Census Year</th>\n",
       "      <th>Total Population</th>\n",
       "      <th>Census Cost</th>\n",
       "      <th>Average Cost Per Person</th>\n",
       "    </tr>\n",
       "  </thead>\n",
       "  <tbody>\n",
       "    <tr>\n",
       "      <th>0</th>\n",
       "      <td>1790</td>\n",
       "      <td>3,929,214</td>\n",
       "      <td>$44,377</td>\n",
       "      <td>1.13 cents</td>\n",
       "    </tr>\n",
       "    <tr>\n",
       "      <th>1</th>\n",
       "      <td>1800</td>\n",
       "      <td>5,308,483</td>\n",
       "      <td>$66,109</td>\n",
       "      <td>1.24 cents</td>\n",
       "    </tr>\n",
       "    <tr>\n",
       "      <th>2</th>\n",
       "      <td>1810</td>\n",
       "      <td>7,239,881</td>\n",
       "      <td>$178,445</td>\n",
       "      <td>2.46 cents</td>\n",
       "    </tr>\n",
       "    <tr>\n",
       "      <th>3</th>\n",
       "      <td>1820</td>\n",
       "      <td>9,633,822</td>\n",
       "      <td>$208,526</td>\n",
       "      <td>2.16 cents</td>\n",
       "    </tr>\n",
       "    <tr>\n",
       "      <th>4</th>\n",
       "      <td>1830</td>\n",
       "      <td>12,866,020</td>\n",
       "      <td>$378,545</td>\n",
       "      <td>2.94 cents</td>\n",
       "    </tr>\n",
       "  </tbody>\n",
       "</table>\n",
       "</div>"
      ],
      "text/plain": [
       "  Census Year Total Population Census Cost Average Cost Per Person\n",
       "0        1790        3,929,214     $44,377              1.13 cents\n",
       "1        1800        5,308,483     $66,109              1.24 cents\n",
       "2        1810        7,239,881    $178,445              2.46 cents\n",
       "3        1820        9,633,822    $208,526              2.16 cents\n",
       "4        1830       12,866,020    $378,545              2.94 cents"
      ]
     },
     "execution_count": 64,
     "metadata": {},
     "output_type": "execute_result"
    }
   ],
   "source": [
    "df = pd.read_table(data_url, skiprows=1)        \n",
    "\n",
    "df.head()    #shows us the top rows of the table"
   ]
  },
  {
   "cell_type": "markdown",
   "id": "5716b63d",
   "metadata": {},
   "source": [
    "## Question #2"
   ]
  },
  {
   "cell_type": "code",
   "execution_count": 65,
   "id": "150d2f65",
   "metadata": {},
   "outputs": [
    {
     "data": {
      "text/plain": [
       "(23, 4)"
      ]
     },
     "execution_count": 65,
     "metadata": {},
     "output_type": "execute_result"
    }
   ],
   "source": [
    "df.shape #4 rows and 23 columns"
   ]
  },
  {
   "cell_type": "markdown",
   "id": "fe66a695",
   "metadata": {},
   "source": [
    "## Question #3"
   ]
  },
  {
   "cell_type": "code",
   "execution_count": 66,
   "id": "c6e4839b",
   "metadata": {},
   "outputs": [
    {
     "data": {
      "text/html": [
       "<div>\n",
       "<style scoped>\n",
       "    .dataframe tbody tr th:only-of-type {\n",
       "        vertical-align: middle;\n",
       "    }\n",
       "\n",
       "    .dataframe tbody tr th {\n",
       "        vertical-align: top;\n",
       "    }\n",
       "\n",
       "    .dataframe thead th {\n",
       "        text-align: right;\n",
       "    }\n",
       "</style>\n",
       "<table border=\"1\" class=\"dataframe\">\n",
       "  <thead>\n",
       "    <tr style=\"text-align: right;\">\n",
       "      <th></th>\n",
       "      <th>Census Year</th>\n",
       "      <th>Total Population</th>\n",
       "      <th>Census Cost</th>\n",
       "      <th>Average Cost Per Person</th>\n",
       "    </tr>\n",
       "  </thead>\n",
       "  <tbody>\n",
       "    <tr>\n",
       "      <th>0</th>\n",
       "      <td>1790</td>\n",
       "      <td>3,929,214</td>\n",
       "      <td>$44,377</td>\n",
       "      <td>1.13 cents</td>\n",
       "    </tr>\n",
       "    <tr>\n",
       "      <th>1</th>\n",
       "      <td>1800</td>\n",
       "      <td>5,308,483</td>\n",
       "      <td>$66,109</td>\n",
       "      <td>1.24 cents</td>\n",
       "    </tr>\n",
       "    <tr>\n",
       "      <th>2</th>\n",
       "      <td>1810</td>\n",
       "      <td>7,239,881</td>\n",
       "      <td>$178,445</td>\n",
       "      <td>2.46 cents</td>\n",
       "    </tr>\n",
       "    <tr>\n",
       "      <th>3</th>\n",
       "      <td>1820</td>\n",
       "      <td>9,633,822</td>\n",
       "      <td>$208,526</td>\n",
       "      <td>2.16 cents</td>\n",
       "    </tr>\n",
       "    <tr>\n",
       "      <th>4</th>\n",
       "      <td>1830</td>\n",
       "      <td>12,866,020</td>\n",
       "      <td>$378,545</td>\n",
       "      <td>2.94 cents</td>\n",
       "    </tr>\n",
       "    <tr>\n",
       "      <th>5</th>\n",
       "      <td>1840</td>\n",
       "      <td>17,069,458</td>\n",
       "      <td>$833,371</td>\n",
       "      <td>4.88 cents</td>\n",
       "    </tr>\n",
       "    <tr>\n",
       "      <th>6</th>\n",
       "      <td>1850</td>\n",
       "      <td>23,191,876</td>\n",
       "      <td>$1,423,351</td>\n",
       "      <td>6.14 cents</td>\n",
       "    </tr>\n",
       "    <tr>\n",
       "      <th>7</th>\n",
       "      <td>1860</td>\n",
       "      <td>31,443,321</td>\n",
       "      <td>$1,969,377</td>\n",
       "      <td>6.26 cents</td>\n",
       "    </tr>\n",
       "    <tr>\n",
       "      <th>8</th>\n",
       "      <td>1870</td>\n",
       "      <td>38,558,371</td>\n",
       "      <td>$3,421,198</td>\n",
       "      <td>8.87 cents</td>\n",
       "    </tr>\n",
       "    <tr>\n",
       "      <th>9</th>\n",
       "      <td>1880</td>\n",
       "      <td>50,155,783</td>\n",
       "      <td>$5,790,678</td>\n",
       "      <td>11.54 cents</td>\n",
       "    </tr>\n",
       "  </tbody>\n",
       "</table>\n",
       "</div>"
      ],
      "text/plain": [
       "  Census Year Total Population Census Cost Average Cost Per Person\n",
       "0        1790        3,929,214     $44,377              1.13 cents\n",
       "1        1800        5,308,483     $66,109              1.24 cents\n",
       "2        1810        7,239,881    $178,445              2.46 cents\n",
       "3        1820        9,633,822    $208,526              2.16 cents\n",
       "4        1830       12,866,020    $378,545              2.94 cents\n",
       "5        1840       17,069,458    $833,371              4.88 cents\n",
       "6        1850       23,191,876  $1,423,351              6.14 cents\n",
       "7        1860       31,443,321  $1,969,377              6.26 cents\n",
       "8        1870       38,558,371  $3,421,198              8.87 cents\n",
       "9        1880       50,155,783  $5,790,678             11.54 cents"
      ]
     },
     "execution_count": 66,
     "metadata": {},
     "output_type": "execute_result"
    }
   ],
   "source": [
    "df.head (10)"
   ]
  },
  {
   "cell_type": "code",
   "execution_count": 67,
   "id": "cb3c370d",
   "metadata": {},
   "outputs": [
    {
     "data": {
      "text/html": [
       "<div>\n",
       "<style scoped>\n",
       "    .dataframe tbody tr th:only-of-type {\n",
       "        vertical-align: middle;\n",
       "    }\n",
       "\n",
       "    .dataframe tbody tr th {\n",
       "        vertical-align: top;\n",
       "    }\n",
       "\n",
       "    .dataframe thead th {\n",
       "        text-align: right;\n",
       "    }\n",
       "</style>\n",
       "<table border=\"1\" class=\"dataframe\">\n",
       "  <thead>\n",
       "    <tr style=\"text-align: right;\">\n",
       "      <th></th>\n",
       "      <th>Census Year</th>\n",
       "      <th>Total Population</th>\n",
       "      <th>Census Cost</th>\n",
       "      <th>Average Cost Per Person</th>\n",
       "    </tr>\n",
       "  </thead>\n",
       "  <tbody>\n",
       "    <tr>\n",
       "      <th>13</th>\n",
       "      <td>1920</td>\n",
       "      <td>105,710,620</td>\n",
       "      <td>$25,117,000</td>\n",
       "      <td>23.76 cents</td>\n",
       "    </tr>\n",
       "    <tr>\n",
       "      <th>14</th>\n",
       "      <td>1930</td>\n",
       "      <td>122,775,046</td>\n",
       "      <td>$40,156,000</td>\n",
       "      <td>32.71 cents</td>\n",
       "    </tr>\n",
       "    <tr>\n",
       "      <th>15</th>\n",
       "      <td>1940</td>\n",
       "      <td>131,669,275</td>\n",
       "      <td>$67,527,000</td>\n",
       "      <td>51.29 cents</td>\n",
       "    </tr>\n",
       "    <tr>\n",
       "      <th>16</th>\n",
       "      <td>1950</td>\n",
       "      <td>151,325,798</td>\n",
       "      <td>$91,462,000</td>\n",
       "      <td>60.44 cents</td>\n",
       "    </tr>\n",
       "    <tr>\n",
       "      <th>17</th>\n",
       "      <td>1960</td>\n",
       "      <td>179,323,175</td>\n",
       "      <td>$127,934,000</td>\n",
       "      <td>71.34 cents</td>\n",
       "    </tr>\n",
       "    <tr>\n",
       "      <th>18</th>\n",
       "      <td>1970</td>\n",
       "      <td>203,302,031</td>\n",
       "      <td>$247,653,000</td>\n",
       "      <td>$1.22</td>\n",
       "    </tr>\n",
       "    <tr>\n",
       "      <th>19</th>\n",
       "      <td>1980</td>\n",
       "      <td>226,542,199</td>\n",
       "      <td>$1,078,488,000</td>\n",
       "      <td>$4.76</td>\n",
       "    </tr>\n",
       "    <tr>\n",
       "      <th>20</th>\n",
       "      <td>1990</td>\n",
       "      <td>248,718,301</td>\n",
       "      <td>$2,492,830,000</td>\n",
       "      <td>$10.02</td>\n",
       "    </tr>\n",
       "    <tr>\n",
       "      <th>21</th>\n",
       "      <td>2000</td>\n",
       "      <td>281,421,906</td>\n",
       "      <td>$4.5 Billion</td>\n",
       "      <td>$15.99</td>\n",
       "    </tr>\n",
       "    <tr>\n",
       "      <th>22</th>\n",
       "      <td>2010*</td>\n",
       "      <td>308,745,538</td>\n",
       "      <td>$13 Billion</td>\n",
       "      <td>$42.11</td>\n",
       "    </tr>\n",
       "  </tbody>\n",
       "</table>\n",
       "</div>"
      ],
      "text/plain": [
       "   Census Year Total Population     Census Cost Average Cost Per Person\n",
       "13        1920      105,710,620     $25,117,000             23.76 cents\n",
       "14        1930      122,775,046     $40,156,000             32.71 cents\n",
       "15        1940      131,669,275     $67,527,000             51.29 cents\n",
       "16        1950      151,325,798     $91,462,000             60.44 cents\n",
       "17        1960      179,323,175    $127,934,000             71.34 cents\n",
       "18        1970      203,302,031    $247,653,000                   $1.22\n",
       "19        1980      226,542,199  $1,078,488,000                   $4.76\n",
       "20        1990      248,718,301  $2,492,830,000                  $10.02\n",
       "21        2000      281,421,906    $4.5 Billion                  $15.99\n",
       "22       2010*      308,745,538     $13 Billion                  $42.11"
      ]
     },
     "execution_count": 67,
     "metadata": {},
     "output_type": "execute_result"
    }
   ],
   "source": [
    "df.tail(10)   "
   ]
  },
  {
   "cell_type": "code",
   "execution_count": 68,
   "id": "82142f1a",
   "metadata": {},
   "outputs": [
    {
     "data": {
      "text/html": [
       "<div>\n",
       "<style scoped>\n",
       "    .dataframe tbody tr th:only-of-type {\n",
       "        vertical-align: middle;\n",
       "    }\n",
       "\n",
       "    .dataframe tbody tr th {\n",
       "        vertical-align: top;\n",
       "    }\n",
       "\n",
       "    .dataframe thead th {\n",
       "        text-align: right;\n",
       "    }\n",
       "</style>\n",
       "<table border=\"1\" class=\"dataframe\">\n",
       "  <thead>\n",
       "    <tr style=\"text-align: right;\">\n",
       "      <th></th>\n",
       "      <th>Census Year</th>\n",
       "      <th>Total Population</th>\n",
       "      <th>Census Cost</th>\n",
       "      <th>Average Cost Per Person</th>\n",
       "    </tr>\n",
       "  </thead>\n",
       "  <tbody>\n",
       "    <tr>\n",
       "      <th>5</th>\n",
       "      <td>1840</td>\n",
       "      <td>17,069,458</td>\n",
       "      <td>$833,371</td>\n",
       "      <td>4.88 cents</td>\n",
       "    </tr>\n",
       "    <tr>\n",
       "      <th>8</th>\n",
       "      <td>1870</td>\n",
       "      <td>38,558,371</td>\n",
       "      <td>$3,421,198</td>\n",
       "      <td>8.87 cents</td>\n",
       "    </tr>\n",
       "    <tr>\n",
       "      <th>10</th>\n",
       "      <td>1890</td>\n",
       "      <td>62,979,766</td>\n",
       "      <td>$11,547,127</td>\n",
       "      <td>18.33 cents</td>\n",
       "    </tr>\n",
       "    <tr>\n",
       "      <th>22</th>\n",
       "      <td>2010*</td>\n",
       "      <td>308,745,538</td>\n",
       "      <td>$13 Billion</td>\n",
       "      <td>$42.11</td>\n",
       "    </tr>\n",
       "    <tr>\n",
       "      <th>15</th>\n",
       "      <td>1940</td>\n",
       "      <td>131,669,275</td>\n",
       "      <td>$67,527,000</td>\n",
       "      <td>51.29 cents</td>\n",
       "    </tr>\n",
       "    <tr>\n",
       "      <th>0</th>\n",
       "      <td>1790</td>\n",
       "      <td>3,929,214</td>\n",
       "      <td>$44,377</td>\n",
       "      <td>1.13 cents</td>\n",
       "    </tr>\n",
       "    <tr>\n",
       "      <th>19</th>\n",
       "      <td>1980</td>\n",
       "      <td>226,542,199</td>\n",
       "      <td>$1,078,488,000</td>\n",
       "      <td>$4.76</td>\n",
       "    </tr>\n",
       "    <tr>\n",
       "      <th>7</th>\n",
       "      <td>1860</td>\n",
       "      <td>31,443,321</td>\n",
       "      <td>$1,969,377</td>\n",
       "      <td>6.26 cents</td>\n",
       "    </tr>\n",
       "    <tr>\n",
       "      <th>13</th>\n",
       "      <td>1920</td>\n",
       "      <td>105,710,620</td>\n",
       "      <td>$25,117,000</td>\n",
       "      <td>23.76 cents</td>\n",
       "    </tr>\n",
       "    <tr>\n",
       "      <th>6</th>\n",
       "      <td>1850</td>\n",
       "      <td>23,191,876</td>\n",
       "      <td>$1,423,351</td>\n",
       "      <td>6.14 cents</td>\n",
       "    </tr>\n",
       "  </tbody>\n",
       "</table>\n",
       "</div>"
      ],
      "text/plain": [
       "   Census Year Total Population     Census Cost Average Cost Per Person\n",
       "5         1840       17,069,458        $833,371              4.88 cents\n",
       "8         1870       38,558,371      $3,421,198              8.87 cents\n",
       "10        1890       62,979,766     $11,547,127             18.33 cents\n",
       "22       2010*      308,745,538     $13 Billion                  $42.11\n",
       "15        1940      131,669,275     $67,527,000             51.29 cents\n",
       "0         1790        3,929,214         $44,377              1.13 cents\n",
       "19        1980      226,542,199  $1,078,488,000                   $4.76\n",
       "7         1860       31,443,321      $1,969,377              6.26 cents\n",
       "13        1920      105,710,620     $25,117,000             23.76 cents\n",
       "6         1850       23,191,876      $1,423,351              6.14 cents"
      ]
     },
     "execution_count": 68,
     "metadata": {},
     "output_type": "execute_result"
    }
   ],
   "source": [
    "df.sample(n=10)"
   ]
  },
  {
   "cell_type": "markdown",
   "id": "dfff8132",
   "metadata": {},
   "source": [
    "## Question #4"
   ]
  },
  {
   "cell_type": "code",
   "execution_count": 69,
   "id": "7636791b",
   "metadata": {},
   "outputs": [
    {
     "name": "stdout",
     "output_type": "stream",
     "text": [
      "<class 'pandas.core.frame.DataFrame'>\n",
      "RangeIndex: 23 entries, 0 to 22\n",
      "Data columns (total 4 columns):\n",
      " #   Column                   Non-Null Count  Dtype \n",
      "---  ------                   --------------  ----- \n",
      " 0   Census Year              23 non-null     object\n",
      " 1   Total Population         23 non-null     object\n",
      " 2   Census Cost              23 non-null     object\n",
      " 3   Average Cost Per Person  23 non-null     object\n",
      "dtypes: object(4)\n",
      "memory usage: 864.0+ bytes\n"
     ]
    }
   ],
   "source": [
    "df.info()"
   ]
  },
  {
   "cell_type": "markdown",
   "id": "92d57ed0",
   "metadata": {},
   "source": [
    "## Question #5"
   ]
  },
  {
   "cell_type": "code",
   "execution_count": 70,
   "id": "c65fa08b",
   "metadata": {},
   "outputs": [
    {
     "data": {
      "text/html": [
       "<div>\n",
       "<style scoped>\n",
       "    .dataframe tbody tr th:only-of-type {\n",
       "        vertical-align: middle;\n",
       "    }\n",
       "\n",
       "    .dataframe tbody tr th {\n",
       "        vertical-align: top;\n",
       "    }\n",
       "\n",
       "    .dataframe thead th {\n",
       "        text-align: right;\n",
       "    }\n",
       "</style>\n",
       "<table border=\"1\" class=\"dataframe\">\n",
       "  <thead>\n",
       "    <tr style=\"text-align: right;\">\n",
       "      <th></th>\n",
       "      <th>Census Year</th>\n",
       "      <th>Total Population</th>\n",
       "      <th>Census Cost</th>\n",
       "      <th>Average Cost Per Person</th>\n",
       "    </tr>\n",
       "  </thead>\n",
       "  <tbody>\n",
       "    <tr>\n",
       "      <th>count</th>\n",
       "      <td>23</td>\n",
       "      <td>23</td>\n",
       "      <td>23</td>\n",
       "      <td>23</td>\n",
       "    </tr>\n",
       "    <tr>\n",
       "      <th>unique</th>\n",
       "      <td>23</td>\n",
       "      <td>23</td>\n",
       "      <td>23</td>\n",
       "      <td>23</td>\n",
       "    </tr>\n",
       "    <tr>\n",
       "      <th>top</th>\n",
       "      <td>1790</td>\n",
       "      <td>3,929,214</td>\n",
       "      <td>$44,377</td>\n",
       "      <td>1.13 cents</td>\n",
       "    </tr>\n",
       "    <tr>\n",
       "      <th>freq</th>\n",
       "      <td>1</td>\n",
       "      <td>1</td>\n",
       "      <td>1</td>\n",
       "      <td>1</td>\n",
       "    </tr>\n",
       "  </tbody>\n",
       "</table>\n",
       "</div>"
      ],
      "text/plain": [
       "       Census Year Total Population Census Cost Average Cost Per Person\n",
       "count           23               23          23                      23\n",
       "unique          23               23          23                      23\n",
       "top           1790        3,929,214     $44,377              1.13 cents\n",
       "freq             1                1           1                       1"
      ]
     },
     "execution_count": 70,
     "metadata": {},
     "output_type": "execute_result"
    }
   ],
   "source": [
    "df.describe()  "
   ]
  },
  {
   "cell_type": "markdown",
   "id": "9374528d",
   "metadata": {},
   "source": [
    "## Question #6"
   ]
  },
  {
   "cell_type": "code",
   "execution_count": 71,
   "id": "e7e38923",
   "metadata": {},
   "outputs": [],
   "source": [
    "def cleanse_year(year_list):                     #creates a function for a clean version of year\n",
    "    if \"*\" in year_list:                         #if * is in year_str, replace it with nothing in it\n",
    "        year = year_list.replace(\"*\",\"\")\n",
    "    else:\n",
    "        year = year_list                         # if * is not there, then assume the list given by year_str\n",
    "        \n",
    "    return int(year)"
   ]
  },
  {
   "cell_type": "code",
   "execution_count": 72,
   "id": "bea4fc9d",
   "metadata": {},
   "outputs": [
    {
     "data": {
      "text/plain": [
       "0     1790\n",
       "1     1800\n",
       "2     1810\n",
       "3     1820\n",
       "4     1830\n",
       "5     1840\n",
       "6     1850\n",
       "7     1860\n",
       "8     1870\n",
       "9     1880\n",
       "10    1890\n",
       "11    1900\n",
       "12    1910\n",
       "13    1920\n",
       "14    1930\n",
       "15    1940\n",
       "16    1950\n",
       "17    1960\n",
       "18    1970\n",
       "19    1980\n",
       "20    1990\n",
       "21    2000\n",
       "22    2010\n",
       "Name: year_cleansed, dtype: int64"
      ]
     },
     "execution_count": 72,
     "metadata": {},
     "output_type": "execute_result"
    }
   ],
   "source": [
    "df[\"year_cleansed\"] = df[\"Census Year\"].apply(cleanse_year)            \n",
    "\n",
    "df[\"year_cleansed\"] "
   ]
  },
  {
   "cell_type": "code",
   "execution_count": 73,
   "id": "534461a9",
   "metadata": {},
   "outputs": [],
   "source": [
    "def cleanse_pop(pop_list):                              #creates function for cleaning pop\n",
    "  if \",\" in pop_list:                                   # if comma is in the list, replace it with nothing in it\n",
    "    pop = pop_list.replace(\",\",\"\")\n",
    "  else:\n",
    "    pop = pop_list                                      #if nothing is there, return the original list\n",
    "  return int(pop)"
   ]
  },
  {
   "cell_type": "code",
   "execution_count": 74,
   "id": "7fe87cf8",
   "metadata": {},
   "outputs": [
    {
     "data": {
      "text/plain": [
       "0       3929214\n",
       "1       5308483\n",
       "2       7239881\n",
       "3       9633822\n",
       "4      12866020\n",
       "5      17069458\n",
       "6      23191876\n",
       "7      31443321\n",
       "8      38558371\n",
       "9      50155783\n",
       "10     62979766\n",
       "11     76303387\n",
       "12     91972266\n",
       "13    105710620\n",
       "14    122775046\n",
       "15    131669275\n",
       "16    151325798\n",
       "17    179323175\n",
       "18    203302031\n",
       "19    226542199\n",
       "20    248718301\n",
       "21    281421906\n",
       "22    308745538\n",
       "Name: pop_cleansed, dtype: int64"
      ]
     },
     "execution_count": 74,
     "metadata": {},
     "output_type": "execute_result"
    }
   ],
   "source": [
    "df[\"pop_cleansed\"] = df[\"Total Population\"].apply(cleanse_pop)\n",
    "\n",
    "df[\"pop_cleansed\"]     "
   ]
  },
  {
   "cell_type": "code",
   "execution_count": 99,
   "id": "2eda88ff",
   "metadata": {},
   "outputs": [
    {
     "data": {
      "text/plain": [
       "0            44377\n",
       "1            66109\n",
       "2           178445\n",
       "3           208526\n",
       "4           378545\n",
       "5           833371\n",
       "6          1423351\n",
       "7          1969377\n",
       "8          3421198\n",
       "9          5790678\n",
       "10        11547127\n",
       "11        11854000\n",
       "12        15968000\n",
       "13        25117000\n",
       "14        40156000\n",
       "15        67527000\n",
       "16        91462000\n",
       "17       127934000\n",
       "18       247653000\n",
       "19      1078488000\n",
       "20      2492830000\n",
       "21     4500000000 \n",
       "22    13000000000 \n",
       "Name: cost_cleansed, dtype: object"
      ]
     },
     "execution_count": 99,
     "metadata": {},
     "output_type": "execute_result"
    }
   ],
   "source": [
    "def cleanse_cost(cost_list):\n",
    "    cost_list = cost_list.replace(\"$\",\"\")\n",
    "    cost_list = cost_list.replace(\",\",\"\")\n",
    "    if \"Billion\" in cost_list:                           \n",
    "        cost_list = cost_list.replace(\"Billion\",\"\")       \n",
    "        cost_list = cost_list.replace(\"4.5\",\"4500000000\")\n",
    "        cost = cost_list.replace(\"13\",\"13000000000\")\n",
    "    else:                                               \n",
    "        cost = cost_list\n",
    "    return (cost)\n",
    "\n",
    "        \n",
    "df[\"cost_cleansed\"] = df[\"Census Cost\"].apply(cleanse_cost)\n",
    "\n",
    "df[\"cost_cleansed\"]  "
   ]
  },
  {
   "cell_type": "code",
   "execution_count": 100,
   "id": "3be2948b",
   "metadata": {},
   "outputs": [],
   "source": [
    "df[\"cost_cleansed\"] = df[\"cost_cleansed\"].astype(int)         # changes data type to integers"
   ]
  },
  {
   "cell_type": "code",
   "execution_count": 101,
   "id": "12877485",
   "metadata": {},
   "outputs": [],
   "source": [
    "def cleanse_avg_cost_per_person(avg_list):              # function to clean avg. cost per person\n",
    "    if \"$\" in avg_list:                                 # if $ is in the avg_list\n",
    "        avg_cost = avg_list.replace(\"$\",\"\")             # replace it with nothing there\n",
    "    elif \"cents\" in avg_list:                           # if cents is in avg_list\n",
    "        avg_cost = avg_list.replace(\"cents\",\"\")       \n",
    "        avg_cost = float(avg_cost)/100                  # change the avg_cost to float and divide it by 100 to make it all dollars\n",
    "    else:                                               # if there is nothing to replace, return original list\n",
    "        avg_cost = avg_list\n",
    "    return (avg_cost)"
   ]
  },
  {
   "cell_type": "code",
   "execution_count": 102,
   "id": "958439f9",
   "metadata": {},
   "outputs": [
    {
     "data": {
      "text/plain": [
       "0     0.0113\n",
       "1     0.0124\n",
       "2     0.0246\n",
       "3     0.0216\n",
       "4     0.0294\n",
       "5     0.0488\n",
       "6     0.0614\n",
       "7     0.0626\n",
       "8     0.0887\n",
       "9     0.1154\n",
       "10    0.1833\n",
       "11    0.1554\n",
       "12    0.1707\n",
       "13    0.2376\n",
       "14    0.3271\n",
       "15    0.5129\n",
       "16    0.6044\n",
       "17    0.7134\n",
       "18      1.22\n",
       "19      4.76\n",
       "20     10.02\n",
       "21     15.99\n",
       "22     42.11\n",
       "Name: avg_cost_cleansed, dtype: object"
      ]
     },
     "execution_count": 102,
     "metadata": {},
     "output_type": "execute_result"
    }
   ],
   "source": [
    "df[\"avg_cost_cleansed\"] = df[\"Average Cost Per Person\"].apply(cleanse_avg_cost_per_person)\n",
    "\n",
    "df[\"avg_cost_cleansed\"]  "
   ]
  },
  {
   "cell_type": "code",
   "execution_count": 103,
   "id": "9620fded",
   "metadata": {},
   "outputs": [],
   "source": [
    "df[\"avg_cost_cleansed\"] = df[\"avg_cost_cleansed\"].astype(float) "
   ]
  },
  {
   "cell_type": "markdown",
   "id": "f842862c",
   "metadata": {},
   "source": [
    "## Question #7"
   ]
  },
  {
   "cell_type": "code",
   "execution_count": 104,
   "id": "03751a7c",
   "metadata": {},
   "outputs": [
    {
     "data": {
      "text/html": [
       "<div>\n",
       "<style scoped>\n",
       "    .dataframe tbody tr th:only-of-type {\n",
       "        vertical-align: middle;\n",
       "    }\n",
       "\n",
       "    .dataframe tbody tr th {\n",
       "        vertical-align: top;\n",
       "    }\n",
       "\n",
       "    .dataframe thead th {\n",
       "        text-align: right;\n",
       "    }\n",
       "</style>\n",
       "<table border=\"1\" class=\"dataframe\">\n",
       "  <thead>\n",
       "    <tr style=\"text-align: right;\">\n",
       "      <th></th>\n",
       "      <th>year_cleansed</th>\n",
       "      <th>pop_cleansed</th>\n",
       "      <th>cost_cleansed</th>\n",
       "      <th>avg_cost_cleansed</th>\n",
       "    </tr>\n",
       "  </thead>\n",
       "  <tbody>\n",
       "    <tr>\n",
       "      <th>count</th>\n",
       "      <td>23.0000</td>\n",
       "      <td>2.300000e+01</td>\n",
       "      <td>2.300000e+01</td>\n",
       "      <td>23.000000</td>\n",
       "    </tr>\n",
       "    <tr>\n",
       "      <th>mean</th>\n",
       "      <td>1900.0000</td>\n",
       "      <td>1.039211e+08</td>\n",
       "      <td>9.445587e+08</td>\n",
       "      <td>3.368739</td>\n",
       "    </tr>\n",
       "    <tr>\n",
       "      <th>std</th>\n",
       "      <td>67.8233</td>\n",
       "      <td>9.622629e+07</td>\n",
       "      <td>2.830037e+09</td>\n",
       "      <td>9.278241</td>\n",
       "    </tr>\n",
       "    <tr>\n",
       "      <th>min</th>\n",
       "      <td>1790.0000</td>\n",
       "      <td>3.929214e+06</td>\n",
       "      <td>4.437700e+04</td>\n",
       "      <td>0.011300</td>\n",
       "    </tr>\n",
       "    <tr>\n",
       "      <th>25%</th>\n",
       "      <td>1845.0000</td>\n",
       "      <td>2.013067e+07</td>\n",
       "      <td>1.128361e+06</td>\n",
       "      <td>0.055100</td>\n",
       "    </tr>\n",
       "    <tr>\n",
       "      <th>50%</th>\n",
       "      <td>1900.0000</td>\n",
       "      <td>7.630339e+07</td>\n",
       "      <td>1.185400e+07</td>\n",
       "      <td>0.170700</td>\n",
       "    </tr>\n",
       "    <tr>\n",
       "      <th>75%</th>\n",
       "      <td>1955.0000</td>\n",
       "      <td>1.653245e+08</td>\n",
       "      <td>1.096980e+08</td>\n",
       "      <td>0.658900</td>\n",
       "    </tr>\n",
       "    <tr>\n",
       "      <th>max</th>\n",
       "      <td>2010.0000</td>\n",
       "      <td>3.087455e+08</td>\n",
       "      <td>1.300000e+10</td>\n",
       "      <td>42.110000</td>\n",
       "    </tr>\n",
       "  </tbody>\n",
       "</table>\n",
       "</div>"
      ],
      "text/plain": [
       "       year_cleansed  pop_cleansed  cost_cleansed  avg_cost_cleansed\n",
       "count        23.0000  2.300000e+01   2.300000e+01          23.000000\n",
       "mean       1900.0000  1.039211e+08   9.445587e+08           3.368739\n",
       "std          67.8233  9.622629e+07   2.830037e+09           9.278241\n",
       "min        1790.0000  3.929214e+06   4.437700e+04           0.011300\n",
       "25%        1845.0000  2.013067e+07   1.128361e+06           0.055100\n",
       "50%        1900.0000  7.630339e+07   1.185400e+07           0.170700\n",
       "75%        1955.0000  1.653245e+08   1.096980e+08           0.658900\n",
       "max        2010.0000  3.087455e+08   1.300000e+10          42.110000"
      ]
     },
     "execution_count": 104,
     "metadata": {},
     "output_type": "execute_result"
    }
   ],
   "source": [
    "df.describe()                # summary statistics of the columns"
   ]
  },
  {
   "cell_type": "markdown",
   "id": "f9362c51",
   "metadata": {},
   "source": [
    "## Question #8"
   ]
  },
  {
   "cell_type": "code",
   "execution_count": 105,
   "id": "62addd2a",
   "metadata": {},
   "outputs": [
    {
     "data": {
      "text/plain": [
       "<AxesSubplot:xlabel='Year', ylabel='Avg Cost per Person'>"
      ]
     },
     "execution_count": 105,
     "metadata": {},
     "output_type": "execute_result"
    },
    {
     "data": {
      "image/png": "[encoded data removed]",
      "text/plain": [
       "<Figure size 432x288 with 1 Axes>"
      ]
     },
     "metadata": {
      "needs_background": "light"
     },
     "output_type": "display_data"
    }
   ],
   "source": [
    "df.plot(x= \"year_cleansed\", y= \"avg_cost_cleansed\", xlabel= \"Year\", ylabel= \"Avg Cost per Person\")\n",
    "# allows plotting of year and avg cost per person"
   ]
  },
  {
   "cell_type": "markdown",
   "id": "3cddc86d",
   "metadata": {},
   "source": [
    "## Question #9"
   ]
  },
  {
   "cell_type": "code",
   "execution_count": 106,
   "id": "146cfcda",
   "metadata": {},
   "outputs": [
    {
     "data": {
      "text/plain": [
       "<AxesSubplot:xlabel='Total Population', ylabel='Total Cost'>"
      ]
     },
     "execution_count": 106,
     "metadata": {},
     "output_type": "execute_result"
    },
    {
     "data": {
      "image/png": "[encoded data removed]",
      "text/plain": [
       "<Figure size 432x288 with 1 Axes>"
      ]
     },
     "metadata": {
      "needs_background": "light"
     },
     "output_type": "display_data"
    }
   ],
   "source": [
    "df.plot.scatter(x= \"pop_cleansed\", y= \"cost_cleansed\", xlabel= \"Total Population\", ylabel= \"Total Cost\")\n",
    "# allows plotting of pop and cost after cleaning data"
   ]
  }
 ],
 "metadata": {
  "kernelspec": {
   "display_name": "Python 3 (ipykernel)",
   "language": "python",
   "name": "python3"
  },
  "language_info": {
   "codemirror_mode": {
    "name": "ipython",
    "version": 3
   },
   "file_extension": ".py",
   "mimetype": "text/x-python",
   "name": "python",
   "nbconvert_exporter": "python",
   "pygments_lexer": "ipython3",
   "version": "3.9.7"
  }
 },
 "nbformat": 4,
 "nbformat_minor": 5
}
