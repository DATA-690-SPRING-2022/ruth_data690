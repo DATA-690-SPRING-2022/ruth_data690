{
  "nbformat": 4,
  "nbformat_minor": 0,
  "metadata": {
    "colab": {
      "name": "HW4 Part A.ipynb",
      "provenance": [],
      "authorship_tag": "ABX9TyOpG7mc+RFf7kTdb38nYhiO",
      "include_colab_link": true
    },
    "kernelspec": {
      "name": "python3",
      "display_name": "Python 3"
    },
    "language_info": {
      "name": "python"
    }
  },
  "cells": [
    {
      "cell_type": "markdown",
      "metadata": {
        "id": "view-in-github",
        "colab_type": "text"
      },
      "source": [
        "<a href=\"https://colab.research.google.com/github/ruthiang/Ruth_data690/blob/main/assignment_04/HW4_Part_A.ipynb\" target=\"_parent\"><img src=\"https://colab.research.google.com/assets/colab-badge.svg\" alt=\"Open In Colab\"/></a>"
      ]
    },
    {
      "cell_type": "markdown",
      "source": [
        "# Homework 4 Part A\n",
        "## Ruth Iang\n",
        "## 2/26/22"
      ],
      "metadata": {
        "id": "qBi4A49OoVMv"
      }
    },
    {
      "cell_type": "markdown",
      "source": [
        "## Question #1"
      ],
      "metadata": {
        "id": "Eol9x6vDsjnp"
      }
    },
    {
      "cell_type": "code",
      "execution_count": 83,
      "metadata": {
        "colab": {
          "base_uri": "https://localhost:8080/"
        },
        "id": "70aTo7r8n60j",
        "outputId": "94650138-f5cc-415d-ce49-ae499a5f9789"
      },
      "outputs": [
        {
          "output_type": "execute_result",
          "data": {
            "text/plain": [
              "['Source: https://www.genealogybranches.com/censuscosts.html\\n',\n",
              " 'Census Year\\tTotal Population\\tCensus Cost\\tAverage Cost Per Person\\n',\n",
              " '1790\\t3,929,214\\t$44,377\\t1.13 cents\\n',\n",
              " '1800\\t5,308,483\\t$66,109\\t1.24 cents\\n',\n",
              " '1810\\t7,239,881\\t$178,445\\t2.46 cents\\n',\n",
              " '1820\\t9,633,822\\t$208,526\\t2.16 cents\\n',\n",
              " '1830\\t12,866,020\\t$378,545\\t2.94 cents\\n',\n",
              " '1840\\t17,069,458\\t$833,371\\t4.88 cents\\n',\n",
              " '1850\\t23,191,876\\t$1,423,351\\t6.14 cents\\n',\n",
              " '1860\\t31,443,321\\t$1,969,377\\t6.26 cents\\n',\n",
              " '1870\\t38,558,371\\t$3,421,198\\t8.87 cents\\n',\n",
              " '1880\\t50,155,783\\t$5,790,678\\t11.54 cents\\n',\n",
              " '1890\\t62,979,766\\t$11,547,127\\t18.33 cents\\n',\n",
              " '1900\\t76,303,387\\t$11,854,000\\t15.54 cents\\n',\n",
              " '1910\\t91,972,266\\t$15,968,000\\t17.07 cents\\n',\n",
              " '1920\\t105,710,620\\t$25,117,000\\t23.76 cents\\n',\n",
              " '1930\\t122,775,046\\t$40,156,000\\t32.71 cents\\n',\n",
              " '1940\\t131,669,275\\t$67,527,000\\t51.29 cents\\n',\n",
              " '1950\\t151,325,798\\t$91,462,000\\t60.44 cents\\n',\n",
              " '1960\\t179,323,175\\t$127,934,000\\t71.34 cents\\n',\n",
              " '1970\\t203,302,031\\t$247,653,000\\t$1.22\\n',\n",
              " '1980\\t226,542,199\\t$1,078,488,000\\t$4.76\\n',\n",
              " '1990\\t248,718,301\\t$2,492,830,000\\t$10.02\\n',\n",
              " '2000\\t281,421,906\\t$4.5 Billion\\t$15.99\\n',\n",
              " '2010*\\t308,745,538\\t$13 Billion\\t$42.11\\n']"
            ]
          },
          "metadata": {},
          "execution_count": 83
        }
      ],
      "source": [
        "with open (\"census_costs.txt\",\"r\") as f:                  \n",
        "  line_list = f.readlines()\n",
        "\n",
        "line_list"
      ]
    },
    {
      "cell_type": "markdown",
      "source": [
        "## Question #2"
      ],
      "metadata": {
        "id": "YMzmXmgosn-T"
      }
    },
    {
      "cell_type": "code",
      "source": [
        "top2_list = line_list[0:2]\n",
        "top2_list"
      ],
      "metadata": {
        "colab": {
          "base_uri": "https://localhost:8080/"
        },
        "id": "jFAdaFIoop0j",
        "outputId": "d643319f-06f4-4eae-bcda-17c821057d8a"
      },
      "execution_count": 84,
      "outputs": [
        {
          "output_type": "execute_result",
          "data": {
            "text/plain": [
              "['Source: https://www.genealogybranches.com/censuscosts.html\\n',\n",
              " 'Census Year\\tTotal Population\\tCensus Cost\\tAverage Cost Per Person\\n']"
            ]
          },
          "metadata": {},
          "execution_count": 84
        }
      ]
    },
    {
      "cell_type": "markdown",
      "source": [
        "## Question #3"
      ],
      "metadata": {
        "id": "yyzA5pBustIP"
      }
    },
    {
      "cell_type": "code",
      "source": [
        "data_list = line_list[2:]\n",
        "\n",
        "data_list"
      ],
      "metadata": {
        "colab": {
          "base_uri": "https://localhost:8080/"
        },
        "id": "n2sRpS70pYLA",
        "outputId": "2f108a3d-47ed-473a-e6cc-538206693162"
      },
      "execution_count": 85,
      "outputs": [
        {
          "output_type": "execute_result",
          "data": {
            "text/plain": [
              "['1790\\t3,929,214\\t$44,377\\t1.13 cents\\n',\n",
              " '1800\\t5,308,483\\t$66,109\\t1.24 cents\\n',\n",
              " '1810\\t7,239,881\\t$178,445\\t2.46 cents\\n',\n",
              " '1820\\t9,633,822\\t$208,526\\t2.16 cents\\n',\n",
              " '1830\\t12,866,020\\t$378,545\\t2.94 cents\\n',\n",
              " '1840\\t17,069,458\\t$833,371\\t4.88 cents\\n',\n",
              " '1850\\t23,191,876\\t$1,423,351\\t6.14 cents\\n',\n",
              " '1860\\t31,443,321\\t$1,969,377\\t6.26 cents\\n',\n",
              " '1870\\t38,558,371\\t$3,421,198\\t8.87 cents\\n',\n",
              " '1880\\t50,155,783\\t$5,790,678\\t11.54 cents\\n',\n",
              " '1890\\t62,979,766\\t$11,547,127\\t18.33 cents\\n',\n",
              " '1900\\t76,303,387\\t$11,854,000\\t15.54 cents\\n',\n",
              " '1910\\t91,972,266\\t$15,968,000\\t17.07 cents\\n',\n",
              " '1920\\t105,710,620\\t$25,117,000\\t23.76 cents\\n',\n",
              " '1930\\t122,775,046\\t$40,156,000\\t32.71 cents\\n',\n",
              " '1940\\t131,669,275\\t$67,527,000\\t51.29 cents\\n',\n",
              " '1950\\t151,325,798\\t$91,462,000\\t60.44 cents\\n',\n",
              " '1960\\t179,323,175\\t$127,934,000\\t71.34 cents\\n',\n",
              " '1970\\t203,302,031\\t$247,653,000\\t$1.22\\n',\n",
              " '1980\\t226,542,199\\t$1,078,488,000\\t$4.76\\n',\n",
              " '1990\\t248,718,301\\t$2,492,830,000\\t$10.02\\n',\n",
              " '2000\\t281,421,906\\t$4.5 Billion\\t$15.99\\n',\n",
              " '2010*\\t308,745,538\\t$13 Billion\\t$42.11\\n']"
            ]
          },
          "metadata": {},
          "execution_count": 85
        }
      ]
    },
    {
      "cell_type": "markdown",
      "source": [
        "## Question #4"
      ],
      "metadata": {
        "id": "QPwmtfpWs3xO"
      }
    },
    {
      "cell_type": "code",
      "source": [
        "year_list = []\n",
        "\n",
        "for line in data_list:\n",
        "    year = line[0:4]\n",
        "    year_list.append(year)\n",
        "\n",
        "print (year_list)\n"
      ],
      "metadata": {
        "colab": {
          "base_uri": "https://localhost:8080/"
        },
        "id": "2_kE5vUBpjx8",
        "outputId": "e67eaff9-991e-43f6-a1e1-7c9ff26dd12c"
      },
      "execution_count": 86,
      "outputs": [
        {
          "output_type": "stream",
          "name": "stdout",
          "text": [
            "['1790', '1800', '1810', '1820', '1830', '1840', '1850', '1860', '1870', '1880', '1890', '1900', '1910', '1920', '1930', '1940', '1950', '1960', '1970', '1980', '1990', '2000', '2010']\n"
          ]
        }
      ]
    },
    {
      "cell_type": "markdown",
      "source": [
        "## Question #5"
      ],
      "metadata": {
        "id": "xfntYXRAtDbn"
      }
    },
    {
      "cell_type": "code",
      "source": [
        "pop_list = []\n",
        "\n",
        "for line in data_list:\n",
        "    part_list = line.split(\"\\t\")\n",
        "    pop = part_list[1]\n",
        "    pop_list.append(pop)\n",
        "\n",
        "print(pop_list)\n"
      ],
      "metadata": {
        "colab": {
          "base_uri": "https://localhost:8080/"
        },
        "id": "2lQiDE6ztJsX",
        "outputId": "4f8b4515-a829-465f-9241-ca7b32aeb8a3"
      },
      "execution_count": 87,
      "outputs": [
        {
          "output_type": "stream",
          "name": "stdout",
          "text": [
            "['3,929,214', '5,308,483', '7,239,881', '9,633,822', '12,866,020', '17,069,458', '23,191,876', '31,443,321', '38,558,371', '50,155,783', '62,979,766', '76,303,387', '91,972,266', '105,710,620', '122,775,046', '131,669,275', '151,325,798', '179,323,175', '203,302,031', '226,542,199', '248,718,301', '281,421,906', '308,745,538']\n"
          ]
        }
      ]
    },
    {
      "cell_type": "code",
      "source": [
        "cleansed_pop_list = []\n",
        "\n",
        "for pop in pop_list:\n",
        "    cleansed_pop = pop.replace(\",\",\"\")\n",
        "    cleansed_pop_list.append(int(cleansed_pop))\n",
        "\n",
        "print(cleansed_pop_list)"
      ],
      "metadata": {
        "colab": {
          "base_uri": "https://localhost:8080/"
        },
        "id": "v-9XX4XkL_yc",
        "outputId": "5f255dbd-0edd-4a2c-b231-4c1d27526b3a"
      },
      "execution_count": 88,
      "outputs": [
        {
          "output_type": "stream",
          "name": "stdout",
          "text": [
            "[3929214, 5308483, 7239881, 9633822, 12866020, 17069458, 23191876, 31443321, 38558371, 50155783, 62979766, 76303387, 91972266, 105710620, 122775046, 131669275, 151325798, 179323175, 203302031, 226542199, 248718301, 281421906, 308745538]\n"
          ]
        }
      ]
    },
    {
      "cell_type": "markdown",
      "source": [
        "## Question #6"
      ],
      "metadata": {
        "id": "CvDRS346weC-"
      }
    },
    {
      "cell_type": "code",
      "source": [
        "cost_list = []\n",
        "\n",
        "for line in data_list:\n",
        "  part_list = line.split(\"\\t\")\n",
        "  cost = part_list[2]\n",
        "  cost_list.append(cost)\n",
        "\n",
        "print(cost_list)"
      ],
      "metadata": {
        "colab": {
          "base_uri": "https://localhost:8080/"
        },
        "id": "X1ithc2iYSdD",
        "outputId": "0d7c5412-693a-433a-fecf-2dbb77b96062"
      },
      "execution_count": 136,
      "outputs": [
        {
          "output_type": "stream",
          "name": "stdout",
          "text": [
            "['$44,377', '$66,109', '$178,445', '$208,526', '$378,545', '$833,371', '$1,423,351', '$1,969,377', '$3,421,198', '$5,790,678', '$11,547,127', '$11,854,000', '$15,968,000', '$25,117,000', '$40,156,000', '$67,527,000', '$91,462,000', '$127,934,000', '$247,653,000', '$1,078,488,000', '$2,492,830,000', '$4.5 Billion', '$13 Billion']\n"
          ]
        }
      ]
    },
    {
      "cell_type": "code",
      "source": [
        "cleansed_cost_list = []\n",
        "\n",
        "for cost in cost_list:\n",
        "    cleaning_cost = cost.replace(\",\",\"\")\n",
        "    dollar_cost = cleaning_cost.replace(\"$\",\"\")\n",
        "    if \"Billion\" in dollar_cost:\n",
        "        cleansed_cost = int(float(dollar_cost.replace(\"Billion\",\"\"))*1000000000)\n",
        "    else:\n",
        "        cleansed_cost = int(dollar_cost)\n",
        "\n",
        "    cleansed_cost_list.append(cleansed_cost)\n",
        "\n",
        "print(cleansed_cost_list)"
      ],
      "metadata": {
        "colab": {
          "base_uri": "https://localhost:8080/"
        },
        "id": "BpLvMxwpZZQS",
        "outputId": "ff77b86d-e446-41e1-83e3-26aa132adee2"
      },
      "execution_count": 139,
      "outputs": [
        {
          "output_type": "stream",
          "name": "stdout",
          "text": [
            "[44377, 66109, 178445, 208526, 378545, 833371, 1423351, 1969377, 3421198, 5790678, 11547127, 11854000, 15968000, 25117000, 40156000, 67527000, 91462000, 127934000, 247653000, 1078488000, 2492830000, 4500000000, 13000000000]\n"
          ]
        }
      ]
    },
    {
      "cell_type": "markdown",
      "source": [
        "# Question #7"
      ],
      "metadata": {
        "id": "0cTGyb5n6TD8"
      }
    },
    {
      "cell_type": "code",
      "source": [
        "avg_list = []\n",
        "\n",
        "for line in data_list:\n",
        "    part_list = line.split(\"\\t\")\n",
        "    avg = part_list[3]\n",
        "    avg_list.append(avg)\n",
        "\n",
        "print(avg_list)"
      ],
      "metadata": {
        "colab": {
          "base_uri": "https://localhost:8080/"
        },
        "id": "Pz16DcrMdTKV",
        "outputId": "df5b4727-167d-4191-ac83-a27bf7d6b36d"
      },
      "execution_count": 148,
      "outputs": [
        {
          "output_type": "stream",
          "name": "stdout",
          "text": [
            "['1.13 cents\\n', '1.24 cents\\n', '2.46 cents\\n', '2.16 cents\\n', '2.94 cents\\n', '4.88 cents\\n', '6.14 cents\\n', '6.26 cents\\n', '8.87 cents\\n', '11.54 cents\\n', '18.33 cents\\n', '15.54 cents\\n', '17.07 cents\\n', '23.76 cents\\n', '32.71 cents\\n', '51.29 cents\\n', '60.44 cents\\n', '71.34 cents\\n', '$1.22\\n', '$4.76\\n', '$10.02\\n', '$15.99\\n', '$42.11\\n']\n"
          ]
        }
      ]
    },
    {
      "cell_type": "code",
      "source": [
        "cleansed_avg_list = []\n",
        "\n",
        "for avg in avg_list:\n",
        "      line_avg = avg.replace(\"\\n\",\"\")\n",
        "      dollar_avg = line_avg.replace(\"$\",\"\")\n",
        "      if \"cents\" in dollar_avg:\n",
        "          cents_avg = float (dollar_avg.replace(\"cents\",\"\")) / 100\n",
        "          cents_avg = round(cents_avg, 4)\n",
        "      else:\n",
        "          cents_avg = dollar_avg\n",
        "\n",
        "      cleansed_avg_list.append(cents_avg)\n",
        "\n",
        "print(cleansed_avg_list)"
      ],
      "metadata": {
        "colab": {
          "base_uri": "https://localhost:8080/"
        },
        "id": "PoeBVwv8e_Dh",
        "outputId": "6eb02365-6aaa-45c1-a46e-cee964136a4d"
      },
      "execution_count": 149,
      "outputs": [
        {
          "output_type": "stream",
          "name": "stdout",
          "text": [
            "[0.0113, 0.0124, 0.0246, 0.0216, 0.0294, 0.0488, 0.0614, 0.0626, 0.0887, 0.1154, 0.1833, 0.1554, 0.1707, 0.2376, 0.3271, 0.5129, 0.6044, 0.7134, '1.22', '4.76', '10.02', '15.99', '42.11']\n"
          ]
        }
      ]
    },
    {
      "cell_type": "markdown",
      "source": [
        "## Question #8 "
      ],
      "metadata": {
        "id": "Qwx2pFx86Xd8"
      }
    },
    {
      "cell_type": "code",
      "source": [
        "cleansed_census = list(zip(year_list, cleansed_pop_list, cleansed_cost_list, cleansed_avg_list))\n",
        "\n",
        "print(cleansed_census)"
      ],
      "metadata": {
        "colab": {
          "base_uri": "https://localhost:8080/"
        },
        "id": "-pcOMezduVoF",
        "outputId": "9f6b3fd1-bee1-422b-ce3e-164e27814267"
      },
      "execution_count": 156,
      "outputs": [
        {
          "output_type": "stream",
          "name": "stdout",
          "text": [
            "[('1790', 3929214, 44377, 0.0113), ('1800', 5308483, 66109, 0.0124), ('1810', 7239881, 178445, 0.0246), ('1820', 9633822, 208526, 0.0216), ('1830', 12866020, 378545, 0.0294), ('1840', 17069458, 833371, 0.0488), ('1850', 23191876, 1423351, 0.0614), ('1860', 31443321, 1969377, 0.0626), ('1870', 38558371, 3421198, 0.0887), ('1880', 50155783, 5790678, 0.1154), ('1890', 62979766, 11547127, 0.1833), ('1900', 76303387, 11854000, 0.1554), ('1910', 91972266, 15968000, 0.1707), ('1920', 105710620, 25117000, 0.2376), ('1930', 122775046, 40156000, 0.3271), ('1940', 131669275, 67527000, 0.5129), ('1950', 151325798, 91462000, 0.6044), ('1960', 179323175, 127934000, 0.7134), ('1970', 203302031, 247653000, '1.22'), ('1980', 226542199, 1078488000, '4.76'), ('1990', 248718301, 2492830000, '10.02'), ('2000', 281421906, 4500000000, '15.99'), ('2010', 308745538, 13000000000, '42.11')]\n"
          ]
        }
      ]
    },
    {
      "cell_type": "code",
      "source": [
        "with open(\"cleansed_census.csv\", \"w\") as w:\n",
        "   for element in top2_list:\n",
        "        w.write(element)\n",
        "\n",
        "   for element in cleansed_census:\n",
        "        w.write(\"{0}\\t{1}\\t{2}\\t{3}\\n\".format(*element))\n",
        "\n",
        "w.close()"
      ],
      "metadata": {
        "id": "I36NgsLqSNat"
      },
      "execution_count": 163,
      "outputs": []
    },
    {
      "cell_type": "markdown",
      "source": [
        "## Question #9 "
      ],
      "metadata": {
        "id": "Q2CtguUf6gQK"
      }
    },
    {
      "cell_type": "code",
      "source": [
        "with open(\"cleansed_census.csv\", \"r\") as fr:\n",
        "    data = fr.readlines()\n",
        "\n",
        "data"
      ],
      "metadata": {
        "colab": {
          "base_uri": "https://localhost:8080/"
        },
        "id": "3t4TLSmhtyil",
        "outputId": "caac0054-41b2-49f9-8191-c16309fccdd0"
      },
      "execution_count": 164,
      "outputs": [
        {
          "output_type": "execute_result",
          "data": {
            "text/plain": [
              "['Source: https://www.genealogybranches.com/censuscosts.html\\n',\n",
              " 'Census Year\\tTotal Population\\tCensus Cost\\tAverage Cost Per Person\\n',\n",
              " '1790\\t3929214\\t44377\\t0.0113\\n',\n",
              " '1800\\t5308483\\t66109\\t0.0124\\n',\n",
              " '1810\\t7239881\\t178445\\t0.0246\\n',\n",
              " '1820\\t9633822\\t208526\\t0.0216\\n',\n",
              " '1830\\t12866020\\t378545\\t0.0294\\n',\n",
              " '1840\\t17069458\\t833371\\t0.0488\\n',\n",
              " '1850\\t23191876\\t1423351\\t0.0614\\n',\n",
              " '1860\\t31443321\\t1969377\\t0.0626\\n',\n",
              " '1870\\t38558371\\t3421198\\t0.0887\\n',\n",
              " '1880\\t50155783\\t5790678\\t0.1154\\n',\n",
              " '1890\\t62979766\\t11547127\\t0.1833\\n',\n",
              " '1900\\t76303387\\t11854000\\t0.1554\\n',\n",
              " '1910\\t91972266\\t15968000\\t0.1707\\n',\n",
              " '1920\\t105710620\\t25117000\\t0.2376\\n',\n",
              " '1930\\t122775046\\t40156000\\t0.3271\\n',\n",
              " '1940\\t131669275\\t67527000\\t0.5129\\n',\n",
              " '1950\\t151325798\\t91462000\\t0.6044\\n',\n",
              " '1960\\t179323175\\t127934000\\t0.7134\\n',\n",
              " '1970\\t203302031\\t247653000\\t1.22\\n',\n",
              " '1980\\t226542199\\t1078488000\\t4.76\\n',\n",
              " '1990\\t248718301\\t2492830000\\t10.02\\n',\n",
              " '2000\\t281421906\\t4500000000\\t15.99\\n',\n",
              " '2010\\t308745538\\t13000000000\\t42.11\\n']"
            ]
          },
          "metadata": {},
          "execution_count": 164
        }
      ]
    }
  ]
}