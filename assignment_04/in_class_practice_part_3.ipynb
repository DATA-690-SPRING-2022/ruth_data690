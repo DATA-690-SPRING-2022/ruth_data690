{
  "nbformat": 4,
  "nbformat_minor": 0,
  "metadata": {
    "colab": {
      "name": "in_class_practice_part_3.ipynb",
      "provenance": [],
      "authorship_tag": "ABX9TyPjmdLHbat0BQUQP0FCYf1q",
      "include_colab_link": true
    },
    "kernelspec": {
      "name": "python3",
      "display_name": "Python 3"
    },
    "language_info": {
      "name": "python"
    }
  },
  "cells": [
    {
      "cell_type": "markdown",
      "metadata": {
        "id": "view-in-github",
        "colab_type": "text"
      },
      "source": [
        "<a href=\"https://colab.research.google.com/github/ruthiang/Ruth_data690/blob/main/assignment_04/in_class_practice_part_3.ipynb\" target=\"_parent\"><img src=\"https://colab.research.google.com/assets/colab-badge.svg\" alt=\"Open In Colab\"/></a>"
      ]
    },
    {
      "cell_type": "markdown",
      "source": [
        "# In Class Practice Part 3\n",
        "- Date: 02/21/22\n",
        "- Name: Ruth Iang"
      ],
      "metadata": {
        "id": "5OOHC7jmLvh1"
      }
    },
    {
      "cell_type": "code",
      "execution_count": null,
      "metadata": {
        "id": "Dc6GvAR3LpmF"
      },
      "outputs": [],
      "source": [
        "with open(\"census_costs.text\", \"r\") as f:\n",
        "    lines = f.readlines()\n",
        "\n",
        "lines"
      ]
    },
    {
      "cell_type": "code",
      "source": [
        "len (line_list)"
      ],
      "metadata": {
        "id": "fMkO-tKZO41g"
      },
      "execution_count": null,
      "outputs": []
    },
    {
      "cell_type": "code",
      "source": [
        "top2_list = line_list[0:2]\n",
        "top2_list"
      ],
      "metadata": {
        "id": "SYldI-PoO7aV"
      },
      "execution_count": null,
      "outputs": []
    },
    {
      "cell_type": "code",
      "source": [
        "# alist[sto:stop].      STOP is a STOP sign, you don't include it (you don't touch it, don't run through)\n",
        "# range(0,100)\n",
        "# alist[-1] last one\n",
        "# alist [-4] forth from the last\n",
        "\n",
        "last2_list = line_list[-2:]\n",
        "last2_list"
      ],
      "metadata": {
        "id": "BrDIolEpPGR7"
      },
      "execution_count": null,
      "outputs": []
    },
    {
      "cell_type": "code",
      "source": [
        "line_list [-4:-1]"
      ],
      "metadata": {
        "id": "607M7P7IPoHm"
      },
      "execution_count": null,
      "outputs": []
    },
    {
      "cell_type": "code",
      "source": [
        "data_list = line_list[2:]\n",
        "\n",
        "data_list"
      ],
      "metadata": {
        "id": "2Zixdq0vQTtd"
      },
      "execution_count": null,
      "outputs": []
    },
    {
      "cell_type": "code",
      "source": [
        "year_list = []\n",
        "\n",
        "for line in data_list:\n",
        "    year = line[0:4]\n",
        "    year_list.append(year)\n",
        "\n",
        "print(year_list)"
      ],
      "metadata": {
        "id": "hJVYVLzGRDm2"
      },
      "execution_count": null,
      "outputs": []
    },
    {
      "cell_type": "code",
      "source": [
        "pop_list = []\n",
        "\n",
        "for line in data_list:\n",
        "    part_list = line.split(\"\\t\")\n",
        "    pop - part_list[1]\n",
        "    year_list.append(pop)\n",
        "\n",
        "print(pop_list)"
      ],
      "metadata": {
        "id": "FdOd7P5mSGWf"
      },
      "execution_count": null,
      "outputs": []
    },
    {
      "cell_type": "code",
      "source": [
        "cleanse_pop_list = []\n",
        "\n",
        "for pop in pop_list:\n",
        "    cleansed_pop = pop.replace(\",\", \"\")\n",
        "    cleansed_pop_list.append(int(cleansed_pop))\n",
        "\n",
        "print(cleansed_pop_list)\n",
        "                    "
      ],
      "metadata": {
        "id": "E7dYLP8wTCp6"
      },
      "execution_count": null,
      "outputs": []
    },
    {
      "cell_type": "code",
      "source": [
        "x = \"1790\\t3,929,214\\t$44,377\\t1.13 cents\\n\"\n",
        "\n",
        "x.split(\"\\t\")"
      ],
      "metadata": {
        "id": "jvZvFCQKS0H-"
      },
      "execution_count": null,
      "outputs": []
    }
  ]
}