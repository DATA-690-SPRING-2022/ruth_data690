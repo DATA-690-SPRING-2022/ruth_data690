{
  "nbformat": 4,
  "nbformat_minor": 0,
  "metadata": {
    "colab": {
      "name": "inclass_session_04.ipynb",
      "provenance": [],
      "authorship_tag": "ABX9TyM8UGhc7VMQO9KfY2XRcOws",
      "include_colab_link": true
    },
    "kernelspec": {
      "name": "python3",
      "display_name": "Python 3"
    },
    "language_info": {
      "name": "python"
    }
  },
  "cells": [
    {
      "cell_type": "markdown",
      "metadata": {
        "id": "view-in-github",
        "colab_type": "text"
      },
      "source": [
        "<a href=\"https://colab.research.google.com/github/ruthiang/Ruth_data690/blob/main/assignment_04/inclass_session_04.ipynb\" target=\"_parent\"><img src=\"https://colab.research.google.com/assets/colab-badge.svg\" alt=\"Open In Colab\"/></a>"
      ]
    },
    {
      "cell_type": "markdown",
      "source": [
        "# In Class Practice\n",
        "- Date: 02/21/22\n",
        "- Name: Ruth Iang"
      ],
      "metadata": {
        "id": "ajKk6Hr10ZaQ"
      }
    },
    {
      "cell_type": "code",
      "execution_count": null,
      "metadata": {
        "id": "83WmY6kfyG7M"
      },
      "outputs": [],
      "source": [
        "import random\n",
        "import re\n",
        "for i in range(0,10):\n",
        "    print(end=\"\\n \")\n",
        "    for j in range(0,10):\n",
        "        num=random.randint(0,9)\n",
        "        if (num % 2) == 0:\n",
        "            print(num, end=\" \")\n",
        "        else:\n",
        "            strnum = str(num)\n",
        "            strnum=strnum.replace(strnum,\"@\")\n",
        "            print(strnum, end=\" \")\n"
      ]
    },
    {
      "cell_type": "code",
      "source": [
        "x = \"Hello, wporld!\"\n",
        "\n",
        "print(x)"
      ],
      "metadata": {
        "colab": {
          "base_uri": "https://localhost:8080/"
        },
        "id": "P0tVlWBu08tF",
        "outputId": "fdc216d1-3c33-474e-fe4e-8b3b1fb3dcbd"
      },
      "execution_count": 14,
      "outputs": [
        {
          "output_type": "stream",
          "name": "stdout",
          "text": [
            "Hello, wporld!\n"
          ]
        }
      ]
    },
    {
      "cell_type": "code",
      "source": [
        "x = x.replace(\"p\", \"\")\n",
        "\n",
        "print(x)"
      ],
      "metadata": {
        "colab": {
          "base_uri": "https://localhost:8080/"
        },
        "id": "azrUmN1D1G6N",
        "outputId": "f5693c81-fbac-424f-f1da-7a81524e881c"
      },
      "execution_count": 15,
      "outputs": [
        {
          "output_type": "stream",
          "name": "stdout",
          "text": [
            "Hello, world!\n"
          ]
        }
      ]
    },
    {
      "cell_type": "code",
      "source": [
        "x = x.replace(\"Hello\", \"Hi\")\n",
        "\n",
        "print(x)"
      ],
      "metadata": {
        "colab": {
          "base_uri": "https://localhost:8080/"
        },
        "id": "97qKiSon1ZlC",
        "outputId": "6259d03c-d142-4363-ed38-55de2beda1d9"
      },
      "execution_count": 16,
      "outputs": [
        {
          "output_type": "stream",
          "name": "stdout",
          "text": [
            "Hi, world!\n"
          ]
        }
      ]
    },
    {
      "cell_type": "code",
      "source": [
        "x = x.replace(\"w\", \"W\")\n",
        "\n",
        "print(x)"
      ],
      "metadata": {
        "colab": {
          "base_uri": "https://localhost:8080/"
        },
        "id": "Ev5g3UXL16kK",
        "outputId": "897d0151-9dce-45e4-c7f5-68dd6059b40e"
      },
      "execution_count": 17,
      "outputs": [
        {
          "output_type": "stream",
          "name": "stdout",
          "text": [
            "Hi, World!\n"
          ]
        }
      ]
    },
    {
      "cell_type": "code",
      "source": [
        "x = x.upper()\n",
        "\n",
        "print(x)"
      ],
      "metadata": {
        "colab": {
          "base_uri": "https://localhost:8080/"
        },
        "id": "-gt5yjNO2Sgu",
        "outputId": "58c092b2-1c1d-44ae-a643-818f6395a8f4"
      },
      "execution_count": 18,
      "outputs": [
        {
          "output_type": "stream",
          "name": "stdout",
          "text": [
            "HI, WORLD!\n"
          ]
        }
      ]
    },
    {
      "cell_type": "code",
      "source": [
        "x = x.lower()\n",
        "\n",
        "print(x)"
      ],
      "metadata": {
        "colab": {
          "base_uri": "https://localhost:8080/"
        },
        "id": "V497VdDe2eOM",
        "outputId": "1651393a-b0ea-4d65-d137-6fc2020f49a5"
      },
      "execution_count": 19,
      "outputs": [
        {
          "output_type": "stream",
          "name": "stdout",
          "text": [
            "hi, world!\n"
          ]
        }
      ]
    },
    {
      "cell_type": "markdown",
      "source": [
        "# String function/methods/operations\n",
        "\n",
        "- upper()\n",
        "- lower()\n",
        "- replace()\n",
        "- lstrip()\n",
        "-rstrip()"
      ],
      "metadata": {
        "id": "XEOfXO_D2_Dd"
      }
    },
    {
      "cell_type": "code",
      "source": [
        "# generate 100 number first\n",
        "\n",
        "numbers=[]           #This list is to hold 100 random numbers\n",
        "for i in range(100):\n",
        "    numbers.append(random.randint(0,9))\n",
        "\n",
        "print(numbers)\n",
        "print(len(numbers))\n"
      ],
      "metadata": {
        "colab": {
          "base_uri": "https://localhost:8080/"
        },
        "id": "7q2HyNzg3DT2",
        "outputId": "a43d185b-411c-40af-d882-04a9ced8d2bf"
      },
      "execution_count": 29,
      "outputs": [
        {
          "output_type": "stream",
          "name": "stdout",
          "text": [
            "[3, 3, 5, 3, 7, 4, 3, 1, 0, 8, 9, 3, 2, 8, 3, 8, 0, 7, 9, 1, 1, 8, 7, 7, 8, 2, 0, 5, 4, 5, 8, 1, 5, 2, 7, 7, 1, 1, 0, 0, 5, 7, 3, 4, 5, 4, 7, 9, 1, 3, 8, 6, 1, 2, 5, 3, 4, 9, 6, 2, 4, 3, 8, 3, 3, 7, 0, 9, 6, 1, 9, 6, 8, 2, 0, 4, 2, 5, 6, 5, 0, 8, 0, 9, 9, 2, 2, 7, 2, 4, 5, 7, 7, 7, 5, 8, 7, 0, 9, 4]\n",
            "100\n"
          ]
        }
      ]
    },
    {
      "cell_type": "code",
      "source": [
        "for i in range(0,100,1):\n",
        "      print(\"index = \", i, \"member = \", numbers[i])"
      ],
      "metadata": {
        "colab": {
          "base_uri": "https://localhost:8080/"
        },
        "id": "phB93Lm74WIm",
        "outputId": "a76e337f-a8b2-4509-9465-7308dcf3cbf1"
      },
      "execution_count": 32,
      "outputs": [
        {
          "output_type": "stream",
          "name": "stdout",
          "text": [
            "index =  0 member =  3\n",
            "index =  1 member =  3\n",
            "index =  2 member =  5\n",
            "index =  3 member =  3\n",
            "index =  4 member =  7\n",
            "index =  5 member =  4\n",
            "index =  6 member =  3\n",
            "index =  7 member =  1\n",
            "index =  8 member =  0\n",
            "index =  9 member =  8\n",
            "index =  10 member =  9\n",
            "index =  11 member =  3\n",
            "index =  12 member =  2\n",
            "index =  13 member =  8\n",
            "index =  14 member =  3\n",
            "index =  15 member =  8\n",
            "index =  16 member =  0\n",
            "index =  17 member =  7\n",
            "index =  18 member =  9\n",
            "index =  19 member =  1\n",
            "index =  20 member =  1\n",
            "index =  21 member =  8\n",
            "index =  22 member =  7\n",
            "index =  23 member =  7\n",
            "index =  24 member =  8\n",
            "index =  25 member =  2\n",
            "index =  26 member =  0\n",
            "index =  27 member =  5\n",
            "index =  28 member =  4\n",
            "index =  29 member =  5\n",
            "index =  30 member =  8\n",
            "index =  31 member =  1\n",
            "index =  32 member =  5\n",
            "index =  33 member =  2\n",
            "index =  34 member =  7\n",
            "index =  35 member =  7\n",
            "index =  36 member =  1\n",
            "index =  37 member =  1\n",
            "index =  38 member =  0\n",
            "index =  39 member =  0\n",
            "index =  40 member =  5\n",
            "index =  41 member =  7\n",
            "index =  42 member =  3\n",
            "index =  43 member =  4\n",
            "index =  44 member =  5\n",
            "index =  45 member =  4\n",
            "index =  46 member =  7\n",
            "index =  47 member =  9\n",
            "index =  48 member =  1\n",
            "index =  49 member =  3\n",
            "index =  50 member =  8\n",
            "index =  51 member =  6\n",
            "index =  52 member =  1\n",
            "index =  53 member =  2\n",
            "index =  54 member =  5\n",
            "index =  55 member =  3\n",
            "index =  56 member =  4\n",
            "index =  57 member =  9\n",
            "index =  58 member =  6\n",
            "index =  59 member =  2\n",
            "index =  60 member =  4\n",
            "index =  61 member =  3\n",
            "index =  62 member =  8\n",
            "index =  63 member =  3\n",
            "index =  64 member =  3\n",
            "index =  65 member =  7\n",
            "index =  66 member =  0\n",
            "index =  67 member =  9\n",
            "index =  68 member =  6\n",
            "index =  69 member =  1\n",
            "index =  70 member =  9\n",
            "index =  71 member =  6\n",
            "index =  72 member =  8\n",
            "index =  73 member =  2\n",
            "index =  74 member =  0\n",
            "index =  75 member =  4\n",
            "index =  76 member =  2\n",
            "index =  77 member =  5\n",
            "index =  78 member =  6\n",
            "index =  79 member =  5\n",
            "index =  80 member =  0\n",
            "index =  81 member =  8\n",
            "index =  82 member =  0\n",
            "index =  83 member =  9\n",
            "index =  84 member =  9\n",
            "index =  85 member =  2\n",
            "index =  86 member =  2\n",
            "index =  87 member =  7\n",
            "index =  88 member =  2\n",
            "index =  89 member =  4\n",
            "index =  90 member =  5\n",
            "index =  91 member =  7\n",
            "index =  92 member =  7\n",
            "index =  93 member =  7\n",
            "index =  94 member =  5\n",
            "index =  95 member =  8\n",
            "index =  96 member =  7\n",
            "index =  97 member =  0\n",
            "index =  98 member =  9\n",
            "index =  99 member =  4\n"
          ]
        }
      ]
    },
    {
      "cell_type": "code",
      "source": [
        "count=0\n",
        "for i in range(10):\n",
        "    for j in range(10):\n",
        "        print(numbers[count],\" \", end=\" \")\n",
        "        count+=1\n",
        "    print(\"\\n\")"
      ],
      "metadata": {
        "colab": {
          "base_uri": "https://localhost:8080/"
        },
        "id": "JRF2w8DA4LGp",
        "outputId": "3349a43a-2905-4d45-fd90-6bf1d41aefe7"
      },
      "execution_count": 30,
      "outputs": [
        {
          "output_type": "stream",
          "name": "stdout",
          "text": [
            "3   3   5   3   7   4   3   1   0   8   \n",
            "\n",
            "9   3   2   8   3   8   0   7   9   1   \n",
            "\n",
            "1   8   7   7   8   2   0   5   4   5   \n",
            "\n",
            "8   1   5   2   7   7   1   1   0   0   \n",
            "\n",
            "5   7   3   4   5   4   7   9   1   3   \n",
            "\n",
            "8   6   1   2   5   3   4   9   6   2   \n",
            "\n",
            "4   3   8   3   3   7   0   9   6   1   \n",
            "\n",
            "9   6   8   2   0   4   2   5   6   5   \n",
            "\n",
            "0   8   0   9   9   2   2   7   2   4   \n",
            "\n",
            "5   7   7   7   5   8   7   0   9   4   \n",
            "\n"
          ]
        }
      ]
    },
    {
      "cell_type": "code",
      "source": [
        "for n in range(10):\n",
        "    sum=0\n",
        "    for i in range(10):\n",
        "      y=random.randint(0,9)\n",
        "      sum=sum+y\n",
        "      print(y,end=\" \")\n",
        "    print(\"*\",sum,end=\"\\n\")"
      ],
      "metadata": {
        "colab": {
          "base_uri": "https://localhost:8080/"
        },
        "id": "l3F-q_Rv6AXB",
        "outputId": "c2fa5be6-1f38-409a-f1d3-29d9652e9ad8"
      },
      "execution_count": 33,
      "outputs": [
        {
          "output_type": "stream",
          "name": "stdout",
          "text": [
            "6 0 5 2 7 9 0 5 9 5 * 48\n",
            "6 0 1 5 3 8 4 5 2 8 * 42\n",
            "0 5 6 9 3 5 7 2 5 2 * 44\n",
            "2 0 3 3 7 4 2 2 4 2 * 29\n",
            "8 4 3 8 4 6 5 0 2 0 * 40\n",
            "3 5 5 2 8 5 7 2 2 3 * 42\n",
            "1 2 9 2 8 6 3 4 7 2 * 44\n",
            "0 1 9 5 7 8 6 9 1 2 * 48\n",
            "1 5 3 5 0 9 2 7 5 2 * 39\n",
            "5 8 3 4 1 7 9 0 3 5 * 45\n"
          ]
        }
      ]
    },
    {
      "cell_type": "code",
      "source": [
        "x = [0,0,0,0,0,0]\n",
        "\n",
        "print(x)"
      ],
      "metadata": {
        "colab": {
          "base_uri": "https://localhost:8080/"
        },
        "id": "QYR0gPI_6_ov",
        "outputId": "b0a43e37-f794-4c6f-9fa4-5503bd7e000c"
      },
      "execution_count": 34,
      "outputs": [
        {
          "output_type": "stream",
          "name": "stdout",
          "text": [
            "[0, 0, 0, 0, 0, 0]\n"
          ]
        }
      ]
    },
    {
      "cell_type": "code",
      "source": [
        "x = [0] * 6\n",
        "\n",
        "print(x)"
      ],
      "metadata": {
        "colab": {
          "base_uri": "https://localhost:8080/"
        },
        "id": "OreXQr8S7D1t",
        "outputId": "a1ee7682-67e8-49d9-f99a-f0efac20eba8"
      },
      "execution_count": 36,
      "outputs": [
        {
          "output_type": "stream",
          "name": "stdout",
          "text": [
            "[0, 0, 0, 0, 0, 0]\n"
          ]
        }
      ]
    },
    {
      "cell_type": "code",
      "source": [
        "x = [0]*100\n",
        "\n",
        "print(x)"
      ],
      "metadata": {
        "colab": {
          "base_uri": "https://localhost:8080/"
        },
        "id": "0QJghWXD7L3g",
        "outputId": "a8bbbce4-9cf3-4a2b-80e5-32f04f4b5ab8"
      },
      "execution_count": 39,
      "outputs": [
        {
          "output_type": "stream",
          "name": "stdout",
          "text": [
            "[0, 0, 0, 0, 0, 0, 0, 0, 0, 0, 0, 0, 0, 0, 0, 0, 0, 0, 0, 0, 0, 0, 0, 0, 0, 0, 0, 0, 0, 0, 0, 0, 0, 0, 0, 0, 0, 0, 0, 0, 0, 0, 0, 0, 0, 0, 0, 0, 0, 0, 0, 0, 0, 0, 0, 0, 0, 0, 0, 0, 0, 0, 0, 0, 0, 0, 0, 0, 0, 0, 0, 0, 0, 0, 0, 0, 0, 0, 0, 0, 0, 0, 0, 0, 0, 0, 0, 0, 0, 0, 0, 0, 0, 0, 0, 0, 0, 0, 0, 0]\n"
          ]
        }
      ]
    }
  ]
}