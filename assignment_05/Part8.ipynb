{
  "nbformat": 4,
  "nbformat_minor": 0,
  "metadata": {
    "colab": {
      "name": "Part8.ipynb",
      "provenance": [],
      "authorship_tag": "ABX9TyP6+qn1WucTwnNWBE7JWomq",
      "include_colab_link": true
    },
    "kernelspec": {
      "name": "python3",
      "display_name": "Python 3"
    },
    "language_info": {
      "name": "python"
    }
  },
  "cells": [
    {
      "cell_type": "markdown",
      "metadata": {
        "id": "view-in-github",
        "colab_type": "text"
      },
      "source": [
        "<a href=\"https://colab.research.google.com/github/ruthiang/Ruth_data690/blob/main/assignment_05/Part8.ipynb\" target=\"_parent\"><img src=\"https://colab.research.google.com/assets/colab-badge.svg\" alt=\"Open In Colab\"/></a>"
      ]
    },
    {
      "cell_type": "markdown",
      "source": [
        "# Python Recap\n",
        "## 3/4/2022\n",
        "## Ruth Iang"
      ],
      "metadata": {
        "id": "Z7zNn4s0i9A1"
      }
    },
    {
      "cell_type": "markdown",
      "source": [
        "## Syntax Overview  "
      ],
      "metadata": {
        "id": "xHQaQILhjPfZ"
      }
    },
    {
      "cell_type": "code",
      "execution_count": 2,
      "metadata": {
        "id": "d1G8WUMKiAOh"
      },
      "outputs": [],
      "source": [
        "def add_numbers(x, y):\n",
        "    return x + y"
      ]
    },
    {
      "cell_type": "code",
      "source": [
        "# try changing \"Python\" to something else.\n",
        "# Don't remove the quotes.\n",
        "language = \"English\"\n",
        "\n",
        "if language == \"English\":\n",
        "    print(\"Let the fun begin!\")\n",
        "else:\n",
        "    print(\"You sure?\")"
      ],
      "metadata": {
        "colab": {
          "base_uri": "https://localhost:8080/"
        },
        "id": "0xPxa33GjqUk",
        "outputId": "61c27a09-37fb-4531-c686-64fc4ca62297"
      },
      "execution_count": 1,
      "outputs": [
        {
          "output_type": "stream",
          "name": "stdout",
          "text": [
            "Let the fun begin!\n"
          ]
        }
      ]
    },
    {
      "cell_type": "markdown",
      "source": [
        "## Variables"
      ],
      "metadata": {
        "id": "D5yL-tWnj1k5"
      }
    },
    {
      "cell_type": "code",
      "source": [
        "name = \"Mary\"\n",
        "print(name)"
      ],
      "metadata": {
        "colab": {
          "base_uri": "https://localhost:8080/"
        },
        "id": "W1wfUsT6j-Dl",
        "outputId": "aefe38cb-ded8-4a6e-fd95-1461ca9973ee"
      },
      "execution_count": 3,
      "outputs": [
        {
          "output_type": "stream",
          "name": "stdout",
          "text": [
            "Mary\n"
          ]
        }
      ]
    },
    {
      "cell_type": "code",
      "source": [
        "age = 30\n",
        "print(age)\n",
        "# variables will be preserved once set"
      ],
      "metadata": {
        "colab": {
          "base_uri": "https://localhost:8080/"
        },
        "id": "ZmBuyg-Qj_kd",
        "outputId": "d9c1fd7f-98cc-4401-e2aa-377a6004e9a0"
      },
      "execution_count": 6,
      "outputs": [
        {
          "output_type": "stream",
          "name": "stdout",
          "text": [
            "30\n"
          ]
        }
      ]
    },
    {
      "cell_type": "code",
      "source": [
        "print(name, \"is\", age, \"years old\")"
      ],
      "metadata": {
        "colab": {
          "base_uri": "https://localhost:8080/"
        },
        "id": "DKIQBTNmkCBw",
        "outputId": "dcdee902-2f65-47c3-e1ab-412bf083e529"
      },
      "execution_count": 5,
      "outputs": [
        {
          "output_type": "stream",
          "name": "stdout",
          "text": [
            "Mary is 30 years old\n"
          ]
        }
      ]
    },
    {
      "cell_type": "markdown",
      "source": [
        "## Data Types"
      ],
      "metadata": {
        "id": "4jk6WYMBkHfx"
      }
    },
    {
      "cell_type": "code",
      "source": [
        "# an int\n",
        "age = 30\n",
        "\n",
        "age"
      ],
      "metadata": {
        "colab": {
          "base_uri": "https://localhost:8080/"
        },
        "id": "MHgHiK6YkV2j",
        "outputId": "aa8d60e2-0c17-47d7-ba45-9fc1f4cdcd0f"
      },
      "execution_count": 7,
      "outputs": [
        {
          "output_type": "execute_result",
          "data": {
            "text/plain": [
              "30"
            ]
          },
          "metadata": {},
          "execution_count": 7
        }
      ]
    },
    {
      "cell_type": "code",
      "source": [
        "type(age)"
      ],
      "metadata": {
        "colab": {
          "base_uri": "https://localhost:8080/"
        },
        "id": "pQ8bpveQkYUl",
        "outputId": "c852d61d-24c0-4add-945d-6eb6071f791c"
      },
      "execution_count": 8,
      "outputs": [
        {
          "output_type": "execute_result",
          "data": {
            "text/plain": [
              "int"
            ]
          },
          "metadata": {},
          "execution_count": 8
        }
      ]
    },
    {
      "cell_type": "markdown",
      "source": [
        "### Floats, type float"
      ],
      "metadata": {
        "id": "5HbTedadkcBV"
      }
    },
    {
      "cell_type": "code",
      "source": [
        "# a float\n",
        "price = 2.50"
      ],
      "metadata": {
        "id": "f8qtboGQkfPj"
      },
      "execution_count": 9,
      "outputs": []
    },
    {
      "cell_type": "code",
      "source": [
        "price"
      ],
      "metadata": {
        "colab": {
          "base_uri": "https://localhost:8080/"
        },
        "id": "YImxjwVNkg9_",
        "outputId": "592dd88a-fb33-4a06-9755-3599595883b3"
      },
      "execution_count": 10,
      "outputs": [
        {
          "output_type": "execute_result",
          "data": {
            "text/plain": [
              "2.5"
            ]
          },
          "metadata": {},
          "execution_count": 10
        }
      ]
    },
    {
      "cell_type": "code",
      "source": [
        "type(price)\n",
        "# Remember that floats sometimes exhibit \"extraneous\" behavior"
      ],
      "metadata": {
        "colab": {
          "base_uri": "https://localhost:8080/"
        },
        "id": "w5ig9lFNkjTd",
        "outputId": "0ab4840a-96b1-47eb-8d3a-a6125f312c24"
      },
      "execution_count": 12,
      "outputs": [
        {
          "output_type": "execute_result",
          "data": {
            "text/plain": [
              "float"
            ]
          },
          "metadata": {},
          "execution_count": 12
        }
      ]
    },
    {
      "cell_type": "code",
      "source": [
        "# If you need decimal fixed point precision, you can use the decimal module:\n",
        "from decimal import Decimal"
      ],
      "metadata": {
        "id": "BERkYA6ZkvGb"
      },
      "execution_count": 13,
      "outputs": []
    },
    {
      "cell_type": "code",
      "source": [
        "Decimal('0.1') * 3"
      ],
      "metadata": {
        "colab": {
          "base_uri": "https://localhost:8080/"
        },
        "id": "sikj-nCrkyfp",
        "outputId": "062950c6-b16c-4322-99ad-2911b7c5714c"
      },
      "execution_count": 14,
      "outputs": [
        {
          "output_type": "execute_result",
          "data": {
            "text/plain": [
              "Decimal('0.3')"
            ]
          },
          "metadata": {},
          "execution_count": 14
        }
      ]
    },
    {
      "cell_type": "markdown",
      "source": [
        "### Strings, type str\n",
        "- Strings are used to store text. Technically, they're \"immutable sequences of Unicode code points\""
      ],
      "metadata": {
        "id": "LXJxvqF3k0v6"
      }
    },
    {
      "cell_type": "code",
      "source": [
        "# Create them with double quotes:\n",
        "print(\"Hello unicode 👋\")"
      ],
      "metadata": {
        "colab": {
          "base_uri": "https://localhost:8080/"
        },
        "id": "RzCKOZl7k8XI",
        "outputId": "a03ca713-7b58-4763-deb1-0898e8763c14"
      },
      "execution_count": 15,
      "outputs": [
        {
          "output_type": "stream",
          "name": "stdout",
          "text": [
            "Hello unicode 👋\n"
          ]
        }
      ]
    },
    {
      "cell_type": "code",
      "source": [
        "# single quotes:\n",
        "print('Omelette Du Fromage 🧀')"
      ],
      "metadata": {
        "colab": {
          "base_uri": "https://localhost:8080/"
        },
        "id": "3AYJOvSfk-eS",
        "outputId": "10450af0-1c62-49b7-fee3-c28c2e65a2b7"
      },
      "execution_count": 16,
      "outputs": [
        {
          "output_type": "stream",
          "name": "stdout",
          "text": [
            "Omelette Du Fromage 🧀\n"
          ]
        }
      ]
    },
    {
      "cell_type": "code",
      "source": [
        "type('Hello World')"
      ],
      "metadata": {
        "colab": {
          "base_uri": "https://localhost:8080/"
        },
        "id": "6BfxVa1mk_5b",
        "outputId": "18cb4f9c-b523-4a38-f398-12a9a598ead5"
      },
      "execution_count": 17,
      "outputs": [
        {
          "output_type": "execute_result",
          "data": {
            "text/plain": [
              "str"
            ]
          },
          "metadata": {},
          "execution_count": 17
        }
      ]
    },
    {
      "cell_type": "code",
      "source": [
        "len(\"Hello\")"
      ],
      "metadata": {
        "colab": {
          "base_uri": "https://localhost:8080/"
        },
        "id": "nMApv0MflBRM",
        "outputId": "9c866cc1-271e-4125-8b2a-c99f308a5ed9"
      },
      "execution_count": 18,
      "outputs": [
        {
          "output_type": "execute_result",
          "data": {
            "text/plain": [
              "5"
            ]
          },
          "metadata": {},
          "execution_count": 18
        }
      ]
    },
    {
      "cell_type": "code",
      "source": [
        "joke = \"\"\"\n",
        "Me: What’s the best thing about Switzerland?\n",
        "Friend: I don't know. What?\n",
        "Me: I don’t know, but the flag is a big plus.\n",
        "F: 😒\n",
        "\"\"\"\n",
        "\n",
        "print(joke)"
      ],
      "metadata": {
        "colab": {
          "base_uri": "https://localhost:8080/"
        },
        "id": "IrqN9ayElFAQ",
        "outputId": "35d04d4d-90f9-41ca-ec86-e31cb96f4113"
      },
      "execution_count": 19,
      "outputs": [
        {
          "output_type": "stream",
          "name": "stdout",
          "text": [
            "\n",
            "Me: What’s the best thing about Switzerland?\n",
            "Friend: I don't know. What?\n",
            "Me: I don’t know, but the flag is a big plus.\n",
            "F: 😒\n",
            "\n"
          ]
        }
      ]
    },
    {
      "cell_type": "markdown",
      "source": [
        "### Boolean, type bool\n",
        "- They are either: True and False, capitalized."
      ],
      "metadata": {
        "id": "KKr1JiQ8lHwz"
      }
    },
    {
      "cell_type": "code",
      "source": [
        "True"
      ],
      "metadata": {
        "colab": {
          "base_uri": "https://localhost:8080/"
        },
        "id": "nlG0hibFlG78",
        "outputId": "aaabc24a-fb50-47dd-925d-fdff75a21972"
      },
      "execution_count": 21,
      "outputs": [
        {
          "output_type": "execute_result",
          "data": {
            "text/plain": [
              "True"
            ]
          },
          "metadata": {},
          "execution_count": 21
        }
      ]
    },
    {
      "cell_type": "code",
      "source": [
        "type(False)"
      ],
      "metadata": {
        "colab": {
          "base_uri": "https://localhost:8080/"
        },
        "id": "S7GAOTT9lUDi",
        "outputId": "9d8e17d8-f682-42b9-cd75-89eb6c904937"
      },
      "execution_count": 22,
      "outputs": [
        {
          "output_type": "execute_result",
          "data": {
            "text/plain": [
              "bool"
            ]
          },
          "metadata": {},
          "execution_count": 22
        }
      ]
    },
    {
      "cell_type": "markdown",
      "source": [
        "### None, type Nonetype"
      ],
      "metadata": {
        "id": "5q7y1ugzlWMA"
      }
    },
    {
      "cell_type": "code",
      "source": [
        "x = None\n",
        "x"
      ],
      "metadata": {
        "id": "K2SkwqgrleK8"
      },
      "execution_count": 23,
      "outputs": []
    },
    {
      "cell_type": "code",
      "source": [
        "print (x)"
      ],
      "metadata": {
        "colab": {
          "base_uri": "https://localhost:8080/"
        },
        "id": "8wKIpvoVlgfH",
        "outputId": "8524cb17-a9c5-4cdc-9290-adf68f953798"
      },
      "execution_count": 24,
      "outputs": [
        {
          "output_type": "stream",
          "name": "stdout",
          "text": [
            "None\n"
          ]
        }
      ]
    },
    {
      "cell_type": "code",
      "source": [
        "print (None)"
      ],
      "metadata": {
        "colab": {
          "base_uri": "https://localhost:8080/"
        },
        "id": "-PwFmjPSlh3K",
        "outputId": "dfc0bcf3-35f5-4500-c17d-7e54549c8c4a"
      },
      "execution_count": 25,
      "outputs": [
        {
          "output_type": "stream",
          "name": "stdout",
          "text": [
            "None\n"
          ]
        }
      ]
    },
    {
      "cell_type": "markdown",
      "source": [
        "## int, float, str and bool objects and functions"
      ],
      "metadata": {
        "id": "s4Wn9vKllk4X"
      }
    },
    {
      "cell_type": "code",
      "source": [
        "age_as_string = \"28\""
      ],
      "metadata": {
        "id": "EVf0ctTplsHZ"
      },
      "execution_count": 26,
      "outputs": []
    },
    {
      "cell_type": "code",
      "source": [
        "type(age_as_string)"
      ],
      "metadata": {
        "colab": {
          "base_uri": "https://localhost:8080/"
        },
        "id": "D4qFqLQplto0",
        "outputId": "e0247bd4-e4f2-41b1-8ea4-b8689df67ae6"
      },
      "execution_count": 27,
      "outputs": [
        {
          "output_type": "execute_result",
          "data": {
            "text/plain": [
              "str"
            ]
          },
          "metadata": {},
          "execution_count": 27
        }
      ]
    },
    {
      "cell_type": "code",
      "source": [
        "int(age_as_string)"
      ],
      "metadata": {
        "colab": {
          "base_uri": "https://localhost:8080/"
        },
        "id": "kDV7rrw7lvPq",
        "outputId": "122c5bf4-4922-4887-ed3e-1deccd696943"
      },
      "execution_count": 28,
      "outputs": [
        {
          "output_type": "execute_result",
          "data": {
            "text/plain": [
              "28"
            ]
          },
          "metadata": {},
          "execution_count": 28
        }
      ]
    },
    {
      "cell_type": "code",
      "source": [
        "age = int(age_as_string)"
      ],
      "metadata": {
        "id": "f0qCTK8slwyG"
      },
      "execution_count": 29,
      "outputs": []
    },
    {
      "cell_type": "code",
      "source": [
        "type(age)"
      ],
      "metadata": {
        "colab": {
          "base_uri": "https://localhost:8080/"
        },
        "id": "ZjgYu9YHlzbp",
        "outputId": "020799f1-3fbf-4f61-ea65-08adbfd0d06e"
      },
      "execution_count": 30,
      "outputs": [
        {
          "output_type": "execute_result",
          "data": {
            "text/plain": [
              "int"
            ]
          },
          "metadata": {},
          "execution_count": 30
        }
      ]
    },
    {
      "cell_type": "code",
      "source": [
        " # Their use as objects is mainly associated with their type:\n",
        "type(13) == int"
      ],
      "metadata": {
        "colab": {
          "base_uri": "https://localhost:8080/"
        },
        "id": "CYx09yYKl3ip",
        "outputId": "d82e7fae-4756-45f1-82a4-dc1d0067681f"
      },
      "execution_count": 31,
      "outputs": [
        {
          "output_type": "execute_result",
          "data": {
            "text/plain": [
              "True"
            ]
          },
          "metadata": {},
          "execution_count": 31
        }
      ]
    },
    {
      "cell_type": "markdown",
      "source": [
        "### Functions"
      ],
      "metadata": {
        "id": "7U5c_9EjmAGo"
      }
    },
    {
      "cell_type": "code",
      "source": [
        "def hello():\n",
        "    return \"Hello World\"\n",
        "\n",
        "# The def keyword indicate the definition of a function\n",
        "# followed by a name and a list of arguments (which this function doesn't receive)\n",
        "# The return statement is used to break the flow of the function and return a value back to the caller"
      ],
      "metadata": {
        "id": "oNjOELUxmHne"
      },
      "execution_count": 32,
      "outputs": []
    },
    {
      "cell_type": "code",
      "source": [
        "result = hello()"
      ],
      "metadata": {
        "id": "3_WbPIx2mHp4"
      },
      "execution_count": 33,
      "outputs": []
    },
    {
      "cell_type": "code",
      "source": [
        "result"
      ],
      "metadata": {
        "colab": {
          "base_uri": "https://localhost:8080/",
          "height": 35
        },
        "id": "Q0yqlfM-mYF_",
        "outputId": "2a472a44-63c5-4423-c732-3f269e7b0436"
      },
      "execution_count": 34,
      "outputs": [
        {
          "output_type": "execute_result",
          "data": {
            "application/vnd.google.colaboratory.intrinsic+json": {
              "type": "string"
            },
            "text/plain": [
              "'Hello World'"
            ]
          },
          "metadata": {},
          "execution_count": 34
        }
      ]
    },
    {
      "cell_type": "code",
      "source": [
        "# If a function doesn't explicitly include a return statement, Python will return None by default:\n",
        "def empty():\n",
        "    x = 3"
      ],
      "metadata": {
        "id": "HzPk-QUYmb9I"
      },
      "execution_count": 35,
      "outputs": []
    },
    {
      "cell_type": "code",
      "source": [
        "result = empty()"
      ],
      "metadata": {
        "id": "pV5D2pGQmgla"
      },
      "execution_count": 36,
      "outputs": []
    },
    {
      "cell_type": "code",
      "source": [
        "print(result)"
      ],
      "metadata": {
        "colab": {
          "base_uri": "https://localhost:8080/"
        },
        "id": "FOrLIxdGmiJh",
        "outputId": "b33f3e3b-c310-4f9a-9add-bd137a1f814d"
      },
      "execution_count": 37,
      "outputs": [
        {
          "output_type": "stream",
          "name": "stdout",
          "text": [
            "None\n"
          ]
        }
      ]
    },
    {
      "cell_type": "markdown",
      "source": [
        "### Receiving parameters\n",
        "- Function parameters are listed at the function definition, and they're part of the function's local scope"
      ],
      "metadata": {
        "id": "wc3tIUe_mliS"
      }
    },
    {
      "cell_type": "code",
      "source": [
        "def add(x, y):\n",
        "    return x + y"
      ],
      "metadata": {
        "id": "FkL4fWsjmwvH"
      },
      "execution_count": 38,
      "outputs": []
    },
    {
      "cell_type": "code",
      "source": [
        "add(2, 3)"
      ],
      "metadata": {
        "colab": {
          "base_uri": "https://localhost:8080/"
        },
        "id": "-xElgSAamy4Y",
        "outputId": "0d4d06d6-91bb-470a-e4d2-0a9c7babcd66"
      },
      "execution_count": 39,
      "outputs": [
        {
          "output_type": "execute_result",
          "data": {
            "text/plain": [
              "5"
            ]
          },
          "metadata": {},
          "execution_count": 39
        }
      ]
    },
    {
      "cell_type": "code",
      "source": [
        "# We can also define functions that accept variable number of arguments, using the star args *\n",
        "def add(*args):\n",
        "    return sum(args)"
      ],
      "metadata": {
        "id": "DvloBq2km5pt"
      },
      "execution_count": 40,
      "outputs": []
    },
    {
      "cell_type": "code",
      "source": [
        "add(1, 1, 1)"
      ],
      "metadata": {
        "colab": {
          "base_uri": "https://localhost:8080/"
        },
        "id": "EM95UhzGm5r9",
        "outputId": "b7295fe7-3661-4489-b1c4-4c3ee9d406f2"
      },
      "execution_count": 41,
      "outputs": [
        {
          "output_type": "execute_result",
          "data": {
            "text/plain": [
              "3"
            ]
          },
          "metadata": {},
          "execution_count": 41
        }
      ]
    },
    {
      "cell_type": "code",
      "source": [
        "add(1)"
      ],
      "metadata": {
        "colab": {
          "base_uri": "https://localhost:8080/"
        },
        "id": "sMTgVsxYnFZv",
        "outputId": "04aedab7-2219-4582-f7ea-bd2bfd8b5350"
      },
      "execution_count": 42,
      "outputs": [
        {
          "output_type": "execute_result",
          "data": {
            "text/plain": [
              "1"
            ]
          },
          "metadata": {},
          "execution_count": 42
        }
      ]
    },
    {
      "cell_type": "markdown",
      "source": [
        "### Operators\n",
        "- Both arithmetic and boolean operators are available"
      ],
      "metadata": {
        "id": "z4xEAg9snH1c"
      }
    },
    {
      "cell_type": "code",
      "source": [
        "# Arithmetic\n",
        "3 + 3"
      ],
      "metadata": {
        "colab": {
          "base_uri": "https://localhost:8080/"
        },
        "id": "afN4OFvtnoto",
        "outputId": "5f796117-1247-4519-bdeb-cfb2efcc2173"
      },
      "execution_count": 43,
      "outputs": [
        {
          "output_type": "execute_result",
          "data": {
            "text/plain": [
              "6"
            ]
          },
          "metadata": {},
          "execution_count": 43
        }
      ]
    },
    {
      "cell_type": "code",
      "source": [
        "11 % 7"
      ],
      "metadata": {
        "colab": {
          "base_uri": "https://localhost:8080/"
        },
        "id": "g9rPRGlOnqoC",
        "outputId": "54a92b39-d058-4297-9795-af337f85609d"
      },
      "execution_count": 44,
      "outputs": [
        {
          "output_type": "execute_result",
          "data": {
            "text/plain": [
              "4"
            ]
          },
          "metadata": {},
          "execution_count": 44
        }
      ]
    },
    {
      "cell_type": "code",
      "source": [
        "2 ** 4"
      ],
      "metadata": {
        "colab": {
          "base_uri": "https://localhost:8080/"
        },
        "id": "hw1iijgRnsTD",
        "outputId": "723bc7d4-8d86-4463-ae9c-5e0080b319b3"
      },
      "execution_count": 45,
      "outputs": [
        {
          "output_type": "execute_result",
          "data": {
            "text/plain": [
              "16"
            ]
          },
          "metadata": {},
          "execution_count": 45
        }
      ]
    },
    {
      "cell_type": "code",
      "source": [
        "3 + 4 * 2**3"
      ],
      "metadata": {
        "colab": {
          "base_uri": "https://localhost:8080/"
        },
        "id": "k1AhF7tKnwYh",
        "outputId": "e5b23776-84de-4d0d-8498-aaa9ea30bc0c"
      },
      "execution_count": 47,
      "outputs": [
        {
          "output_type": "execute_result",
          "data": {
            "text/plain": [
              "35"
            ]
          },
          "metadata": {},
          "execution_count": 47
        }
      ]
    },
    {
      "cell_type": "code",
      "source": [
        "3 + 4 * 5"
      ],
      "metadata": {
        "colab": {
          "base_uri": "https://localhost:8080/"
        },
        "id": "xwVUQtConuvS",
        "outputId": "0dcd0fab-c7a4-4205-d948-2b12bcbbe8d7"
      },
      "execution_count": 46,
      "outputs": [
        {
          "output_type": "execute_result",
          "data": {
            "text/plain": [
              "23"
            ]
          },
          "metadata": {},
          "execution_count": 46
        }
      ]
    },
    {
      "cell_type": "code",
      "source": [
        "# Boolean operators\n",
        "7 > 3"
      ],
      "metadata": {
        "colab": {
          "base_uri": "https://localhost:8080/"
        },
        "id": "PIlspCK6n1-4",
        "outputId": "99294cd5-139c-4d61-a0e0-af4573ae8415"
      },
      "execution_count": 48,
      "outputs": [
        {
          "output_type": "execute_result",
          "data": {
            "text/plain": [
              "True"
            ]
          },
          "metadata": {},
          "execution_count": 48
        }
      ]
    },
    {
      "cell_type": "code",
      "source": [
        "8 >= 8"
      ],
      "metadata": {
        "colab": {
          "base_uri": "https://localhost:8080/"
        },
        "id": "8sfA4rnAn8gj",
        "outputId": "620d103a-3e08-45ee-f6c7-5de3479c497f"
      },
      "execution_count": 49,
      "outputs": [
        {
          "output_type": "execute_result",
          "data": {
            "text/plain": [
              "True"
            ]
          },
          "metadata": {},
          "execution_count": 49
        }
      ]
    },
    {
      "cell_type": "code",
      "source": [
        "# Python is strongly typed\n",
        "# SO comparison between different types will fail if these types are not compatible\n",
        "8 > \"abc\""
      ],
      "metadata": {
        "id": "25Frm11SoDHv"
      },
      "execution_count": null,
      "outputs": []
    },
    {
      "cell_type": "code",
      "source": [
        "True and True"
      ],
      "metadata": {
        "colab": {
          "base_uri": "https://localhost:8080/"
        },
        "id": "8nKOn4dioURp",
        "outputId": "9381ed7c-ed1a-4bfd-d5e0-733f669f1208"
      },
      "execution_count": 52,
      "outputs": [
        {
          "output_type": "execute_result",
          "data": {
            "text/plain": [
              "True"
            ]
          },
          "metadata": {},
          "execution_count": 52
        }
      ]
    },
    {
      "cell_type": "code",
      "source": [
        "not False"
      ],
      "metadata": {
        "colab": {
          "base_uri": "https://localhost:8080/"
        },
        "id": "gyxsMdI1oWEO",
        "outputId": "f32214fb-87ba-4744-e072-c3f0556a5a54"
      },
      "execution_count": 53,
      "outputs": [
        {
          "output_type": "execute_result",
          "data": {
            "text/plain": [
              "True"
            ]
          },
          "metadata": {},
          "execution_count": 53
        }
      ]
    },
    {
      "cell_type": "code",
      "source": [
        "False or True"
      ],
      "metadata": {
        "colab": {
          "base_uri": "https://localhost:8080/"
        },
        "id": "HXPl3O0RoXxm",
        "outputId": "be3baf95-4ac9-448c-a962-e237fa79fce2"
      },
      "execution_count": 54,
      "outputs": [
        {
          "output_type": "execute_result",
          "data": {
            "text/plain": [
              "True"
            ]
          },
          "metadata": {},
          "execution_count": 54
        }
      ]
    },
    {
      "cell_type": "markdown",
      "source": [
        "### Control Flow"
      ],
      "metadata": {
        "id": "VBGgRh1boeFh"
      }
    },
    {
      "cell_type": "code",
      "source": [
        "# if/else/elif statements\n",
        "days_subscribed = 28"
      ],
      "metadata": {
        "id": "gxAswV66ohLb"
      },
      "execution_count": 55,
      "outputs": []
    },
    {
      "cell_type": "code",
      "source": [
        "if days_subscribed >= 30:\n",
        "    print(\"Loyal customer\")\n",
        "elif days_subscribed >= 15:\n",
        "    print(\"Halfway there\")\n",
        "elif days_subscribed >= 1:\n",
        "    print(\"Building confidence\")\n",
        "else:\n",
        "    print(\"Too early\")"
      ],
      "metadata": {
        "colab": {
          "base_uri": "https://localhost:8080/"
        },
        "id": "Ka9ySYwJomzU",
        "outputId": "0c6d818f-fb28-403b-ca3d-54629de62d6a"
      },
      "execution_count": 56,
      "outputs": [
        {
          "output_type": "stream",
          "name": "stdout",
          "text": [
            "Halfway there\n"
          ]
        }
      ]
    },
    {
      "cell_type": "code",
      "source": [
        "# For loops\n",
        "names = ['Monica', 'Ross', 'Chandler', 'Joey', 'Rachel']"
      ],
      "metadata": {
        "id": "kFKOnBjtowxo"
      },
      "execution_count": 57,
      "outputs": []
    },
    {
      "cell_type": "code",
      "source": [
        "for name in names:\n",
        "    print(name)"
      ],
      "metadata": {
        "colab": {
          "base_uri": "https://localhost:8080/"
        },
        "id": "l8w2aEQlo2bE",
        "outputId": "673edc94-f49b-4222-b9e1-39439ce40705"
      },
      "execution_count": 58,
      "outputs": [
        {
          "output_type": "stream",
          "name": "stdout",
          "text": [
            "Monica\n",
            "Ross\n",
            "Chandler\n",
            "Joey\n",
            "Rachel\n"
          ]
        }
      ]
    },
    {
      "cell_type": "code",
      "source": [
        "# While loops: rarely used in Python, but still useful in certain situations\n",
        "count = 0\n",
        "while count < 3:\n",
        "    print(\"Counting...\")\n",
        "    count += 1"
      ],
      "metadata": {
        "id": "si-7eGGjo4g7"
      },
      "execution_count": null,
      "outputs": []
    },
    {
      "cell_type": "markdown",
      "source": [
        "## Collections\n",
        "- most common: lists, tuples, dictionaries, sets\n",
        "- Python collections are heterogeneous, that is, you can mix multiple types."
      ],
      "metadata": {
        "id": "iqHQ7dKtpQb8"
      }
    },
    {
      "cell_type": "code",
      "source": [
        "# Lists - mutable, ordered sequences\n",
        "# \n",
        "l = [3, 'Hello World', True]"
      ],
      "metadata": {
        "id": "oaT4-IHhpd4E"
      },
      "execution_count": 59,
      "outputs": []
    },
    {
      "cell_type": "code",
      "source": [
        "len(l)"
      ],
      "metadata": {
        "colab": {
          "base_uri": "https://localhost:8080/"
        },
        "id": "hJkW1M_7pg5C",
        "outputId": "a2e5fc7d-e991-4e82-d9ff-68b41b20b064"
      },
      "execution_count": 60,
      "outputs": [
        {
          "output_type": "execute_result",
          "data": {
            "text/plain": [
              "3"
            ]
          },
          "metadata": {},
          "execution_count": 60
        }
      ]
    },
    {
      "cell_type": "code",
      "source": [
        "# List elements are accessed using sequential indices (starting from 0)\n",
        "l[0]"
      ],
      "metadata": {
        "colab": {
          "base_uri": "https://localhost:8080/"
        },
        "id": "_WeF5u1wpnDC",
        "outputId": "d6453006-76dd-4f1b-fd69-c748a13014f5"
      },
      "execution_count": 61,
      "outputs": [
        {
          "output_type": "execute_result",
          "data": {
            "text/plain": [
              "3"
            ]
          },
          "metadata": {},
          "execution_count": 61
        }
      ]
    },
    {
      "cell_type": "code",
      "source": [
        "l[1]"
      ],
      "metadata": {
        "colab": {
          "base_uri": "https://localhost:8080/",
          "height": 35
        },
        "id": "Gkg3zsVqpsMd",
        "outputId": "dadb3208-2bec-4f79-fe70-c9b686855940"
      },
      "execution_count": 62,
      "outputs": [
        {
          "output_type": "execute_result",
          "data": {
            "application/vnd.google.colaboratory.intrinsic+json": {
              "type": "string"
            },
            "text/plain": [
              "'Hello World'"
            ]
          },
          "metadata": {},
          "execution_count": 62
        }
      ]
    },
    {
      "cell_type": "code",
      "source": [
        "# Negative indices are also supported\n",
        "l[-1]"
      ],
      "metadata": {
        "colab": {
          "base_uri": "https://localhost:8080/"
        },
        "id": "C-3dJmuSputq",
        "outputId": "1de502dd-1d2c-4bf3-9932-caaea9105c21"
      },
      "execution_count": 63,
      "outputs": [
        {
          "output_type": "execute_result",
          "data": {
            "text/plain": [
              "True"
            ]
          },
          "metadata": {},
          "execution_count": 63
        }
      ]
    },
    {
      "cell_type": "code",
      "source": [
        "l[-2]"
      ],
      "metadata": {
        "colab": {
          "base_uri": "https://localhost:8080/",
          "height": 35
        },
        "id": "rNj5-bDYpyIa",
        "outputId": "29abbe94-a0e4-40a2-8b0a-ea9c07031fa4"
      },
      "execution_count": 64,
      "outputs": [
        {
          "output_type": "execute_result",
          "data": {
            "application/vnd.google.colaboratory.intrinsic+json": {
              "type": "string"
            },
            "text/plain": [
              "'Hello World'"
            ]
          },
          "metadata": {},
          "execution_count": 64
        }
      ]
    },
    {
      "cell_type": "code",
      "source": [
        "# Lists have many useful methods to add/remove elements\n",
        "l.append('Python 🐍')"
      ],
      "metadata": {
        "id": "WClpKD7Mp0cV"
      },
      "execution_count": 65,
      "outputs": []
    },
    {
      "cell_type": "code",
      "source": [
        "l"
      ],
      "metadata": {
        "colab": {
          "base_uri": "https://localhost:8080/"
        },
        "id": "2BPqhEMWqAKU",
        "outputId": "3e5c97f6-3630-46c0-8779-73690bff1ae8"
      },
      "execution_count": 66,
      "outputs": [
        {
          "output_type": "execute_result",
          "data": {
            "text/plain": [
              "[3, 'Hello World', True, 'Python 🐍']"
            ]
          },
          "metadata": {},
          "execution_count": 66
        }
      ]
    },
    {
      "cell_type": "code",
      "source": [
        "'Python 🐍' in l"
      ],
      "metadata": {
        "colab": {
          "base_uri": "https://localhost:8080/"
        },
        "id": "pOiYhckhqBwa",
        "outputId": "a40c045a-4380-4492-e7f9-d3fedd43d55f"
      },
      "execution_count": 67,
      "outputs": [
        {
          "output_type": "execute_result",
          "data": {
            "text/plain": [
              "True"
            ]
          },
          "metadata": {},
          "execution_count": 67
        }
      ]
    },
    {
      "cell_type": "code",
      "source": [
        "'Ruby ♦️' in l"
      ],
      "metadata": {
        "colab": {
          "base_uri": "https://localhost:8080/"
        },
        "id": "NOMciDjnqDdy",
        "outputId": "9281e4c7-c8c0-4f30-fab7-565c8d3e03cc"
      },
      "execution_count": 68,
      "outputs": [
        {
          "output_type": "execute_result",
          "data": {
            "text/plain": [
              "False"
            ]
          },
          "metadata": {},
          "execution_count": 68
        }
      ]
    },
    {
      "cell_type": "code",
      "source": [
        "# Tuples: uples are very similar to lists, but with a huge difference: they're immutable\n",
        "# That means, once a tuple is created, it can't be further modified\n",
        "t = (3, 'Hello World', True)"
      ],
      "metadata": {
        "id": "_rnobWqCqGqe"
      },
      "execution_count": 69,
      "outputs": []
    },
    {
      "cell_type": "code",
      "source": [
        "# Indexing them works in the same way\n",
        "t[0]"
      ],
      "metadata": {
        "colab": {
          "base_uri": "https://localhost:8080/"
        },
        "id": "sJmABOdjqTg4",
        "outputId": "dc2b6540-647a-4ca2-838c-dcde30793da7"
      },
      "execution_count": 70,
      "outputs": [
        {
          "output_type": "execute_result",
          "data": {
            "text/plain": [
              "3"
            ]
          },
          "metadata": {},
          "execution_count": 70
        }
      ]
    },
    {
      "cell_type": "code",
      "source": [
        "t[-1]"
      ],
      "metadata": {
        "colab": {
          "base_uri": "https://localhost:8080/"
        },
        "id": "PAJw2dNFqXZl",
        "outputId": "a58582f5-6349-4703-ddb1-d63c17df7fc8"
      },
      "execution_count": 71,
      "outputs": [
        {
          "output_type": "execute_result",
          "data": {
            "text/plain": [
              "True"
            ]
          },
          "metadata": {},
          "execution_count": 71
        }
      ]
    },
    {
      "cell_type": "code",
      "source": [
        "'Hello World' in t\n",
        "# there's no way of modifying them"
      ],
      "metadata": {
        "colab": {
          "base_uri": "https://localhost:8080/"
        },
        "id": "yknvVwYhqZNc",
        "outputId": "f1d6a81e-2538-466e-f83a-d4c5a5b4baae"
      },
      "execution_count": 73,
      "outputs": [
        {
          "output_type": "execute_result",
          "data": {
            "text/plain": [
              "True"
            ]
          },
          "metadata": {},
          "execution_count": 73
        }
      ]
    },
    {
      "cell_type": "code",
      "source": [
        "# Dictionaries:\n",
        "# Dictionaries are map-like collections that store values under a user-defined key\n",
        "# The key must be an immutable object; we usually employ strings for keys\n",
        "# Dictionaries are mutable, and more importantly, unordered"
      ],
      "metadata": {
        "id": "M5-lWsZuqiL7"
      },
      "execution_count": null,
      "outputs": []
    },
    {
      "cell_type": "code",
      "source": [
        "user = {\n",
        "    \"name\": \"Mary Smith\",\n",
        "    \"email\": \"mary@example.com\",\n",
        "    \"age\": 30,\n",
        "    \"subscribed\": True\n",
        "}"
      ],
      "metadata": {
        "id": "r0Hg7vQEqvLM"
      },
      "execution_count": 75,
      "outputs": []
    },
    {
      "cell_type": "code",
      "source": [
        "user"
      ],
      "metadata": {
        "colab": {
          "base_uri": "https://localhost:8080/"
        },
        "id": "mxWt_BFtq6pj",
        "outputId": "0f531a2c-baf3-4af5-f703-300cc6914e28"
      },
      "execution_count": 76,
      "outputs": [
        {
          "output_type": "execute_result",
          "data": {
            "text/plain": [
              "{'age': 30,\n",
              " 'email': 'mary@example.com',\n",
              " 'name': 'Mary Smith',\n",
              " 'subscribed': True}"
            ]
          },
          "metadata": {},
          "execution_count": 76
        }
      ]
    },
    {
      "cell_type": "code",
      "source": [
        "user['email']"
      ],
      "metadata": {
        "colab": {
          "base_uri": "https://localhost:8080/",
          "height": 35
        },
        "id": "dc0cbWCOq9sF",
        "outputId": "824ab155-fe9c-4548-8c1f-85fdbcb9a7c9"
      },
      "execution_count": 77,
      "outputs": [
        {
          "output_type": "execute_result",
          "data": {
            "application/vnd.google.colaboratory.intrinsic+json": {
              "type": "string"
            },
            "text/plain": [
              "'mary@example.com'"
            ]
          },
          "metadata": {},
          "execution_count": 77
        }
      ]
    },
    {
      "cell_type": "code",
      "source": [
        "\"age\" in user"
      ],
      "metadata": {
        "colab": {
          "base_uri": "https://localhost:8080/"
        },
        "id": "tNpU-L6Hq_nA",
        "outputId": "6fe59bd3-83a0-4544-b7db-6cffc40d07fd"
      },
      "execution_count": 78,
      "outputs": [
        {
          "output_type": "execute_result",
          "data": {
            "text/plain": [
              "True"
            ]
          },
          "metadata": {},
          "execution_count": 78
        }
      ]
    },
    {
      "cell_type": "code",
      "source": [
        "\"last_name\" in user"
      ],
      "metadata": {
        "colab": {
          "base_uri": "https://localhost:8080/"
        },
        "id": "cD3EK8WQrC2S",
        "outputId": "afaf8d22-8e0e-4647-950e-a414cb90d08e"
      },
      "execution_count": 79,
      "outputs": [
        {
          "output_type": "execute_result",
          "data": {
            "text/plain": [
              "False"
            ]
          },
          "metadata": {},
          "execution_count": 79
        }
      ]
    },
    {
      "cell_type": "code",
      "source": [
        "# Sets: unordered collection where the unique characteristic only contain unique elements\n",
        "s = {3, 1, 3, 7, 9, 1, 3, 1}"
      ],
      "metadata": {
        "id": "ooPgrMTXrICE"
      },
      "execution_count": 80,
      "outputs": []
    },
    {
      "cell_type": "code",
      "source": [
        "s"
      ],
      "metadata": {
        "colab": {
          "base_uri": "https://localhost:8080/"
        },
        "id": "4GE8cKuurcNv",
        "outputId": "2bc95854-917c-428b-b7eb-bb46badbd764"
      },
      "execution_count": 81,
      "outputs": [
        {
          "output_type": "execute_result",
          "data": {
            "text/plain": [
              "{1, 3, 7, 9}"
            ]
          },
          "metadata": {},
          "execution_count": 81
        }
      ]
    },
    {
      "cell_type": "code",
      "source": [
        "s.add(10)"
      ],
      "metadata": {
        "id": "fVBcavv1rhNx"
      },
      "execution_count": 82,
      "outputs": []
    },
    {
      "cell_type": "code",
      "source": [
        "s.pop()"
      ],
      "metadata": {
        "colab": {
          "base_uri": "https://localhost:8080/"
        },
        "id": "cGN74uSSri_G",
        "outputId": "3a31bd9b-6331-4ff2-c2d4-d1957add7b0d"
      },
      "execution_count": 83,
      "outputs": [
        {
          "output_type": "execute_result",
          "data": {
            "text/plain": [
              "1"
            ]
          },
          "metadata": {},
          "execution_count": 83
        }
      ]
    },
    {
      "cell_type": "markdown",
      "source": [
        "### Iterating collections\n",
        "- Python's for loop is designed to iterate over collections"
      ],
      "metadata": {
        "id": "5t4UlBkNrnha"
      }
    },
    {
      "cell_type": "code",
      "source": [
        "l = [3, 'Hello World', True]"
      ],
      "metadata": {
        "id": "cy2mV6ZkrmvL"
      },
      "execution_count": 84,
      "outputs": []
    },
    {
      "cell_type": "code",
      "source": [
        "for elem in l:\n",
        "    print(elem)"
      ],
      "metadata": {
        "colab": {
          "base_uri": "https://localhost:8080/"
        },
        "id": "cYaGeuhor7xw",
        "outputId": "82f14e98-9b54-4e0d-f94e-dfa7918a12b4"
      },
      "execution_count": 85,
      "outputs": [
        {
          "output_type": "stream",
          "name": "stdout",
          "text": [
            "3\n",
            "Hello World\n",
            "True\n"
          ]
        }
      ]
    },
    {
      "cell_type": "code",
      "source": [
        "for key in user:\n",
        "    print(key.title(), '=>', user[key])"
      ],
      "metadata": {
        "colab": {
          "base_uri": "https://localhost:8080/"
        },
        "id": "iBCga67Nr9Rn",
        "outputId": "172cd6d2-f497-49d3-f948-10e0a8ffa8e8"
      },
      "execution_count": 86,
      "outputs": [
        {
          "output_type": "stream",
          "name": "stdout",
          "text": [
            "Name => Mary Smith\n",
            "Email => mary@example.com\n",
            "Age => 30\n",
            "Subscribed => True\n"
          ]
        }
      ]
    },
    {
      "cell_type": "markdown",
      "source": [
        "### Modules\n",
        "- One of the best features of Python as a language, is its rich builtin library. To use external modules, you must first import them"
      ],
      "metadata": {
        "id": "q2FqfJobsBKD"
      }
    },
    {
      "cell_type": "code",
      "source": [
        "import random"
      ],
      "metadata": {
        "id": "kkrxlvUosMGl"
      },
      "execution_count": 87,
      "outputs": []
    },
    {
      "cell_type": "code",
      "source": [
        "random.randint(0, 99)"
      ],
      "metadata": {
        "colab": {
          "base_uri": "https://localhost:8080/"
        },
        "id": "igxs7JL6sORu",
        "outputId": "e12a9429-952e-4437-b44e-ac159fc57c91"
      },
      "execution_count": 88,
      "outputs": [
        {
          "output_type": "execute_result",
          "data": {
            "text/plain": [
              "53"
            ]
          },
          "metadata": {},
          "execution_count": 88
        }
      ]
    },
    {
      "cell_type": "markdown",
      "source": [
        "### Exceptions\n",
        "- Exceptions are raised at runtime when an abnormal situation is produced in your program. Exceptions can also be constructed and raised by your code"
      ],
      "metadata": {
        "id": "NTHrfeLdsQcc"
      }
    },
    {
      "cell_type": "code",
      "source": [
        "age = \"30\""
      ],
      "metadata": {
        "id": "IhkSh7PCsYBl"
      },
      "execution_count": 89,
      "outputs": []
    },
    {
      "cell_type": "code",
      "source": [
        "if age > 21:\n",
        "    print(\"Allowed entrance\")"
      ],
      "metadata": {
        "id": "M9KRSATSsc6F"
      },
      "execution_count": null,
      "outputs": []
    },
    {
      "cell_type": "code",
      "source": [
        "# Exceptions can be handled at runtime with a try/except block\n",
        "try:\n",
        "    if age > 21:\n",
        "        print(\"Allowed entrance\")\n",
        "except:\n",
        "    print(\"Something went wrong\")"
      ],
      "metadata": {
        "colab": {
          "base_uri": "https://localhost:8080/"
        },
        "id": "EAhSY_9gshzx",
        "outputId": "d258c94e-63ef-4888-8fa7-5a7d2f333ca8"
      },
      "execution_count": 93,
      "outputs": [
        {
          "output_type": "stream",
          "name": "stdout",
          "text": [
            "Something went wrong\n"
          ]
        }
      ]
    },
    {
      "cell_type": "code",
      "source": [
        "# The except portion can receive also be parametrized with the expected exceptionl\n",
        "try:\n",
        "    if age > 21:\n",
        "        print(\"Allowed entrance\")\n",
        "except TypeError:\n",
        "    print(\"Age is probably of a wrong type\")"
      ],
      "metadata": {
        "colab": {
          "base_uri": "https://localhost:8080/"
        },
        "id": "eU8XUcbfsm0H",
        "outputId": "3a5d9877-7e5d-4a54-88c7-bcbec82761cc"
      },
      "execution_count": 92,
      "outputs": [
        {
          "output_type": "stream",
          "name": "stdout",
          "text": [
            "Age is probably of a wrong type\n"
          ]
        }
      ]
    }
  ]
}