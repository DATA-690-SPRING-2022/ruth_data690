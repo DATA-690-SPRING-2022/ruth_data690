{
  "nbformat": 4,
  "nbformat_minor": 0,
  "metadata": {
    "colab": {
      "name": "help_for_hw03.ipynb",
      "provenance": [],
      "authorship_tag": "ABX9TyNvIENJTSqXaCb7pHh3FtOp",
      "include_colab_link": true
    },
    "kernelspec": {
      "name": "python3",
      "display_name": "Python 3"
    },
    "language_info": {
      "name": "python"
    }
  },
  "cells": [
    {
      "cell_type": "markdown",
      "metadata": {
        "id": "view-in-github",
        "colab_type": "text"
      },
      "source": [
        "<a href=\"https://colab.research.google.com/github/ruthiang/Ruth_data690/blob/main/help_for_hw03.ipynb\" target=\"_parent\"><img src=\"https://colab.research.google.com/assets/colab-badge.svg\" alt=\"Open In Colab\"/></a>"
      ]
    },
    {
      "cell_type": "markdown",
      "source": [
        "# In Class Practice\n",
        "## Date: 02/14/22\n"
      ],
      "metadata": {
        "id": "SEd-jZ5b3GpI"
      }
    },
    {
      "cell_type": "code",
      "execution_count": 1,
      "metadata": {
        "colab": {
          "base_uri": "https://localhost:8080/"
        },
        "id": "F0pmA4Xyw2p4",
        "outputId": "80817321-abbe-4f7b-f285-a6a430517923"
      },
      "outputs": [
        {
          "output_type": "stream",
          "name": "stdout",
          "text": [
            "[2, 5, 12, 'jay', 'wang']\n"
          ]
        }
      ],
      "source": [
        "x = [2,5,12,\"jay\", \"wang\"]\n",
        "\n",
        "print(x)"
      ]
    },
    {
      "cell_type": "code",
      "source": [
        "for a in x:\n",
        "  print(a, end = \" * \")"
      ],
      "metadata": {
        "colab": {
          "base_uri": "https://localhost:8080/"
        },
        "id": "OLB3t2g6xVN-",
        "outputId": "63947274-c281-4a48-c2f0-e438d8be34e7"
      },
      "execution_count": 15,
      "outputs": [
        {
          "output_type": "stream",
          "name": "stdout",
          "text": [
            "2 * 5 * 12 * jay * wang * "
          ]
        }
      ]
    },
    {
      "cell_type": "code",
      "source": [
        "5 in x"
      ],
      "metadata": {
        "colab": {
          "base_uri": "https://localhost:8080/"
        },
        "id": "EL4D0sNMxjwd",
        "outputId": "376df7c7-73e6-4f87-9ffb-08dc10a816b6"
      },
      "execution_count": 3,
      "outputs": [
        {
          "output_type": "execute_result",
          "data": {
            "text/plain": [
              "True"
            ]
          },
          "metadata": {},
          "execution_count": 3
        }
      ]
    },
    {
      "cell_type": "code",
      "source": [
        "if 5 in x:\n",
        "    print(\"5 is a member of a list x.\")\n",
        "else:\n",
        "    print(\"5 is not a member of a list x\")"
      ],
      "metadata": {
        "colab": {
          "base_uri": "https://localhost:8080/"
        },
        "id": "wlIxjp7Qx6-H",
        "outputId": "87eee10b-efac-4945-e7ea-400264748281"
      },
      "execution_count": 4,
      "outputs": [
        {
          "output_type": "stream",
          "name": "stdout",
          "text": [
            "5 is a member of a list x.\n"
          ]
        }
      ]
    },
    {
      "cell_type": "code",
      "source": [
        "y = [5,1,5,6,2,7,8,6,4,2]\n",
        "print(y)"
      ],
      "metadata": {
        "colab": {
          "base_uri": "https://localhost:8080/"
        },
        "id": "oDR_64aUy4iy",
        "outputId": "ac6fddd3-2081-418d-fb55-49f2debdf3c0"
      },
      "execution_count": 7,
      "outputs": [
        {
          "output_type": "stream",
          "name": "stdout",
          "text": [
            "[5, 1, 5, 6, 2, 7, 8, 6, 4, 2]\n"
          ]
        }
      ]
    },
    {
      "cell_type": "code",
      "source": [
        "for b in y:\n",
        "  print(b, end=\" \")"
      ],
      "metadata": {
        "colab": {
          "base_uri": "https://localhost:8080/"
        },
        "id": "-1R2nNOHzO01",
        "outputId": "8bceecb4-67e5-4a6a-c2af-64b6d54c7a28"
      },
      "execution_count": 10,
      "outputs": [
        {
          "output_type": "stream",
          "name": "stdout",
          "text": [
            "5 1 5 6 2 7 8 6 4 2 "
          ]
        }
      ]
    },
    {
      "cell_type": "code",
      "source": [
        "for b in y:\n",
        "  print(b)"
      ],
      "metadata": {
        "colab": {
          "base_uri": "https://localhost:8080/"
        },
        "id": "Fto5XGOyzCzB",
        "outputId": "707ca47e-c0d9-4c36-d962-2c7935fc4b1c"
      },
      "execution_count": 8,
      "outputs": [
        {
          "output_type": "stream",
          "name": "stdout",
          "text": [
            "5\n",
            "1\n",
            "5\n",
            "6\n",
            "2\n",
            "7\n",
            "8\n",
            "6\n",
            "4\n",
            "2\n"
          ]
        }
      ]
    },
    {
      "cell_type": "code",
      "source": [
        "import random"
      ],
      "metadata": {
        "id": "H8P85v_5z1Wf"
      },
      "execution_count": 17,
      "outputs": []
    },
    {
      "cell_type": "code",
      "source": [
        "random.randint(0,9)\n",
        "#random number between 2 and 10"
      ],
      "metadata": {
        "colab": {
          "base_uri": "https://localhost:8080/"
        },
        "id": "KQ1Wk2CJz54E",
        "outputId": "0a339dad-9179-4d26-c10b-500dcc08f919"
      },
      "execution_count": 20,
      "outputs": [
        {
          "output_type": "execute_result",
          "data": {
            "text/plain": [
              "4"
            ]
          },
          "metadata": {},
          "execution_count": 20
        }
      ]
    },
    {
      "cell_type": "code",
      "source": [
        "for i in range(10):\n",
        "#0-9\n",
        "  print(random.randint(0,9), end= \" \")"
      ],
      "metadata": {
        "colab": {
          "base_uri": "https://localhost:8080/"
        },
        "id": "2OTCurI90ev9",
        "outputId": "39cf4e55-8a70-4448-9d18-6225aecf265f"
      },
      "execution_count": 25,
      "outputs": [
        {
          "output_type": "stream",
          "name": "stdout",
          "text": [
            "1 0 9 2 6 1 6 1 6 3 "
          ]
        }
      ]
    },
    {
      "cell_type": "code",
      "source": [
        "for j in range(10):\n",
        "  for i in range(10):\n",
        "      print(random.randint(0,9), end= \" \")\n",
        " #1. print(\"\\n\", end=\"\")\n",
        "  print(\"\")"
      ],
      "metadata": {
        "colab": {
          "base_uri": "https://localhost:8080/"
        },
        "id": "zLMswnAt1yGJ",
        "outputId": "3accad19-1a39-464d-c764-24c61a6ce874"
      },
      "execution_count": 29,
      "outputs": [
        {
          "output_type": "stream",
          "name": "stdout",
          "text": [
            "5 1 8 9 3 6 0 7 6 3 \n",
            "0 8 1 6 3 5 5 6 0 4 \n",
            "5 8 9 7 5 1 9 8 5 1 \n",
            "2 4 2 2 9 3 2 4 5 1 \n",
            "6 3 4 8 1 4 3 2 0 8 \n",
            "7 5 9 5 0 4 2 3 3 6 \n",
            "9 0 6 6 0 0 0 3 7 4 \n",
            "8 8 0 0 6 2 4 4 2 2 \n",
            "7 2 5 6 1 4 3 8 9 7 \n",
            "5 3 1 6 8 4 8 5 5 2 \n"
          ]
        }
      ]
    }
  ]
}