{
  "nbformat": 4,
  "nbformat_minor": 0,
  "metadata": {
    "colab": {
      "name": "hw3.ipynb",
      "provenance": [],
      "include_colab_link": true
    },
    "kernelspec": {
      "name": "python3",
      "display_name": "Python 3"
    },
    "language_info": {
      "name": "python"
    }
  },
  "cells": [
    {
      "cell_type": "markdown",
      "metadata": {
        "id": "view-in-github",
        "colab_type": "text"
      },
      "source": [
        "<a href=\"https://colab.research.google.com/github/ruthiang/Ruth_data690/blob/main/assignment_03/hw3.ipynb\" target=\"_parent\"><img src=\"https://colab.research.google.com/assets/colab-badge.svg\" alt=\"Open In Colab\"/></a>"
      ]
    },
    {
      "cell_type": "markdown",
      "source": [
        "# Homework #3\n",
        "## Ruth Iang"
      ],
      "metadata": {
        "id": "CTNzBzr8JWqq"
      }
    },
    {
      "cell_type": "code",
      "source": [
        "import random"
      ],
      "metadata": {
        "id": "y9rvIxXkJhUt"
      },
      "execution_count": 67,
      "outputs": []
    },
    {
      "cell_type": "markdown",
      "source": [
        "## Question 1"
      ],
      "metadata": {
        "id": "EYbI9_RPqEf1"
      }
    },
    {
      "cell_type": "code",
      "source": [
        "for j in range(10):\n",
        "    for i in range(10):\n",
        "        num = random.randint(0,9)\n",
        "        print(num, end=\" \")\n",
        "        \n",
        "    print(\" \")\n",
        "\n"
      ],
      "metadata": {
        "colab": {
          "base_uri": "https://localhost:8080/"
        },
        "id": "goglFlyuJmWV",
        "outputId": "66ba5758-f069-43a0-ca7b-e062b2843e3c"
      },
      "execution_count": 68,
      "outputs": [
        {
          "output_type": "stream",
          "name": "stdout",
          "text": [
            "9 8 6 2 4 7 3 3 9 7  \n",
            "8 6 3 6 3 7 3 5 0 2  \n",
            "3 1 8 7 0 2 1 3 5 7  \n",
            "9 5 5 4 1 6 3 0 8 7  \n",
            "3 6 7 4 2 8 6 1 1 1  \n",
            "7 6 9 8 9 2 9 0 6 7  \n",
            "4 7 6 8 5 1 5 9 3 4  \n",
            "5 2 1 6 6 6 9 8 0 2  \n",
            "8 2 8 8 2 9 3 6 1 8  \n",
            "3 7 7 2 7 8 9 6 3 4  \n"
          ]
        }
      ]
    },
    {
      "cell_type": "markdown",
      "source": [
        "## Question 2"
      ],
      "metadata": {
        "id": "2shGRHOFqJmp"
      }
    },
    {
      "cell_type": "code",
      "source": [
        "for j in range(10):\n",
        "    for i in range(10):\n",
        "        num = random.randint(0,9)\n",
        "        if num % 2 == 0:        # even number\n",
        "            print(num, end=\" \")\n",
        "        else:                   # odd number\n",
        "            print(\"@\", end=\" \")\n",
        "\n",
        "    print(\" \")\n"
      ],
      "metadata": {
        "id": "N0sWPfMOPAhY",
        "outputId": "00ad6411-61df-4e7f-be15-399149a1c04f",
        "colab": {
          "base_uri": "https://localhost:8080/"
        }
      },
      "execution_count": 69,
      "outputs": [
        {
          "output_type": "stream",
          "name": "stdout",
          "text": [
            "@ 4 0 8 4 4 @ 0 @ 2  \n",
            "0 0 6 2 @ @ @ 8 @ 0  \n",
            "@ 4 2 @ 8 0 8 @ @ @  \n",
            "@ 0 @ @ @ 4 2 0 6 2  \n",
            "@ @ 8 4 2 @ 2 @ 4 2  \n",
            "8 @ @ 4 @ 0 6 4 @ 8  \n",
            "@ 8 @ @ 0 2 @ 8 @ @  \n",
            "0 6 4 6 0 0 0 2 @ 6  \n",
            "2 @ @ @ 4 0 0 4 @ 8  \n",
            "@ 6 @ 4 @ @ @ 0 2 2  \n"
          ]
        }
      ]
    },
    {
      "cell_type": "markdown",
      "source": [
        "# Question 3"
      ],
      "metadata": {
        "id": "h-ZjpEWBQoGL"
      }
    },
    {
      "cell_type": "code",
      "source": [
        "# Solution 1\n",
        " \n",
        "for j in range(10):\n",
        "\n",
        "    num_list =[]          # initialize the list to be empty for each row\n",
        "    for i in range(10):\n",
        "        num = random.randint(0,9)\n",
        "        num_list.append(num)       # append the number to the list\n",
        "        print(num, end=\" \")\n",
        "         \n",
        "    print(\"*\", sum(num_list))"
      ],
      "metadata": {
        "id": "grarvO3DQm-2",
        "outputId": "45e059af-2f9d-46de-852f-f85ad2f87f0c",
        "colab": {
          "base_uri": "https://localhost:8080/"
        }
      },
      "execution_count": 70,
      "outputs": [
        {
          "output_type": "stream",
          "name": "stdout",
          "text": [
            "6 5 7 9 5 0 7 9 1 2 * 51\n",
            "7 9 2 2 8 1 3 1 3 9 * 45\n",
            "7 5 7 7 7 2 5 4 0 9 * 53\n",
            "1 6 8 3 9 5 4 2 8 9 * 55\n",
            "5 0 8 9 3 4 7 2 5 4 * 47\n",
            "3 3 2 1 2 5 1 9 1 4 * 31\n",
            "1 9 4 6 6 3 9 2 0 3 * 43\n",
            "7 8 2 2 6 3 1 0 2 1 * 32\n",
            "4 6 5 2 6 4 7 4 4 3 * 45\n",
            "3 7 3 0 7 7 7 1 1 8 * 44\n"
          ]
        }
      ]
    },
    {
      "cell_type": "code",
      "source": [
        "# Solution 2\n",
        "\n",
        "for j in range(10):\n",
        "\n",
        "    total = 0                           # total for i starts at 0\n",
        "    for i in range(10):\n",
        "        num = random.randint(0,9)       \n",
        "        total = total + num             #adds num to the total as the list goes on\n",
        "        print(num, end=\" \")\n",
        "         \n",
        "    print(\"*\", total)"
      ],
      "metadata": {
        "id": "bu8DVkgKSaKi",
        "outputId": "a9ba3f9e-1405-4c36-88e3-c67345a99c37",
        "colab": {
          "base_uri": "https://localhost:8080/"
        }
      },
      "execution_count": 71,
      "outputs": [
        {
          "output_type": "stream",
          "name": "stdout",
          "text": [
            "2 4 4 2 0 8 2 0 4 5 * 31\n",
            "9 2 1 8 1 8 2 1 8 2 * 42\n",
            "4 0 2 8 8 5 2 2 1 4 * 36\n",
            "5 5 8 4 7 4 9 9 9 1 * 61\n",
            "1 5 5 1 1 5 7 6 1 7 * 39\n",
            "0 9 2 3 1 8 5 0 8 1 * 37\n",
            "7 3 6 8 4 6 3 1 6 9 * 53\n",
            "5 8 1 8 9 9 7 7 5 6 * 65\n",
            "8 3 3 9 1 5 8 2 8 1 * 48\n",
            "5 9 7 6 4 1 7 5 7 9 * 60\n"
          ]
        }
      ]
    },
    {
      "cell_type": "markdown",
      "source": [
        "## Question 4"
      ],
      "metadata": {
        "id": "oOrmSVyBrERW"
      }
    },
    {
      "cell_type": "code",
      "source": [
        "print(\"***********************\")                # for the top of the columns\n",
        "for j in range(10):\n",
        "    print(\"*\", end=\" \")                         # for the left of i\n",
        "    for i in range(10):\n",
        "        print(random.randint(0,9), end= \" \")\n",
        "    print(\"*\")                                  # for the right side of i\n",
        "print(\"***********************\")                # for the bottom of the columns"
      ],
      "metadata": {
        "colab": {
          "base_uri": "https://localhost:8080/"
        },
        "id": "0RZ2b-T43U0Y",
        "outputId": "a69f835b-8b72-436a-93b9-f4929b0d2e4b"
      },
      "execution_count": 72,
      "outputs": [
        {
          "output_type": "stream",
          "name": "stdout",
          "text": [
            "***********************\n",
            "* 3 5 2 4 3 9 2 2 3 9 *\n",
            "* 0 3 9 7 3 0 5 4 2 0 *\n",
            "* 0 8 9 5 8 9 1 0 4 4 *\n",
            "* 2 6 6 6 2 7 2 9 7 7 *\n",
            "* 1 5 6 6 2 5 5 4 8 0 *\n",
            "* 3 2 2 4 5 7 9 7 0 7 *\n",
            "* 0 7 8 7 3 9 0 2 6 0 *\n",
            "* 2 0 9 6 5 4 6 9 3 8 *\n",
            "* 4 3 9 6 8 9 1 5 0 0 *\n",
            "* 8 6 0 0 2 0 8 5 9 0 *\n",
            "***********************\n"
          ]
        }
      ]
    },
    {
      "cell_type": "markdown",
      "source": [
        "## Question 5"
      ],
      "metadata": {
        "id": "WDdjHANarGJ5"
      }
    },
    {
      "cell_type": "code",
      "source": [
        "num_list = []\n",
        "\n",
        "for j in range(10):\n",
        "    num = random.randint(0,9)\n",
        "    num_list.append(num)\n",
        "    print(num, end=\"  \") \n",
        "\n",
        "\n",
        "    num1_list = []\n",
        "    for i in range(10):\n",
        "        num1 = random.randint(0,9)\n",
        "        num1_list.append(num1) \n",
        "        print(num1, end =\"  \")    \n",
        "    print(\"*\", sum(num1_list))\n",
        "    \n",
        "print(\"*  *  *  *  *  *  *  *  *  *  *\")\n",
        "print(sum(num_list))"
      ],
      "metadata": {
        "colab": {
          "base_uri": "https://localhost:8080/"
        },
        "id": "YK769Ko3353U",
        "outputId": "9dffbd53-83c8-4894-e1b1-f6a70595bf72"
      },
      "execution_count": 123,
      "outputs": [
        {
          "output_type": "stream",
          "name": "stdout",
          "text": [
            "6  1  9  7  5  9  7  6  7  4  6  * 61\n",
            "1  2  7  1  5  5  6  0  6  7  9  * 48\n",
            "9  2  2  6  0  6  7  3  1  9  8  * 44\n",
            "3  6  6  0  6  9  0  0  0  1  6  * 34\n",
            "1  3  3  0  6  9  5  5  1  2  1  * 35\n",
            "9  7  7  4  5  5  8  5  9  1  7  * 58\n",
            "3  0  5  8  8  3  0  6  7  1  6  * 44\n",
            "4  3  2  2  6  1  8  3  8  2  6  * 41\n",
            "6  5  7  2  4  9  8  4  6  7  4  * 56\n",
            "2  9  3  7  2  0  5  3  3  2  7  * 41\n",
            "*  *  *  *  *  *  *  *  *  *  *\n",
            "44\n"
          ]
        }
      ]
    },
    {
      "cell_type": "code",
      "source": [
        ""
      ],
      "metadata": {
        "id": "uPZpFNCeX2A0"
      },
      "execution_count": null,
      "outputs": []
    }
  ]
}