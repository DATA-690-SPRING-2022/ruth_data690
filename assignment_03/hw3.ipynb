{
  "nbformat": 4,
  "nbformat_minor": 0,
  "metadata": {
    "colab": {
      "name": "hw3.ipynb",
      "provenance": [],
      "authorship_tag": "ABX9TyN1XUW5bnsrdxXJtFnmd+0C",
      "include_colab_link": true
    },
    "kernelspec": {
      "name": "python3",
      "display_name": "Python 3"
    },
    "language_info": {
      "name": "python"
    }
  },
  "cells": [
    {
      "cell_type": "markdown",
      "metadata": {
        "id": "view-in-github",
        "colab_type": "text"
      },
      "source": [
        "<a href=\"https://colab.research.google.com/github/ruthiang/Ruth_data690/blob/main/assignment_03/hw3.ipynb\" target=\"_parent\"><img src=\"https://colab.research.google.com/assets/colab-badge.svg\" alt=\"Open In Colab\"/></a>"
      ]
    },
    {
      "cell_type": "markdown",
      "source": [
        "# Homework #3\n",
        "## Ruth Iang"
      ],
      "metadata": {
        "id": "CTNzBzr8JWqq"
      }
    },
    {
      "cell_type": "code",
      "source": [
        "import random"
      ],
      "metadata": {
        "id": "y9rvIxXkJhUt"
      },
      "execution_count": 5,
      "outputs": []
    },
    {
      "cell_type": "code",
      "source": [
        "import re\n"
      ],
      "metadata": {
        "id": "RacpoqNCEv8Y"
      },
      "execution_count": 6,
      "outputs": []
    },
    {
      "cell_type": "code",
      "source": [
        "for j in range(10):\n",
        "    for i in range(10):\n",
        "      print(random.randint(0,9), end=\" \")\n",
        "    print(\" \")\n",
        "\n"
      ],
      "metadata": {
        "colab": {
          "base_uri": "https://localhost:8080/"
        },
        "id": "goglFlyuJmWV",
        "outputId": "87bc1924-9794-4258-bcde-791c8d8b1c35"
      },
      "execution_count": 9,
      "outputs": [
        {
          "output_type": "stream",
          "name": "stdout",
          "text": [
            "5 4 8 4 5 6 9 5 8 4  \n",
            "0 9 4 2 1 1 6 8 4 0  \n",
            "8 2 0 1 0 6 7 1 2 0  \n",
            "9 1 1 6 5 9 5 3 0 5  \n",
            "4 5 0 1 5 0 7 4 4 5  \n",
            "8 0 9 6 7 2 6 5 7 6  \n",
            "8 8 3 5 7 2 5 7 4 7  \n",
            "4 0 1 2 5 4 9 4 0 8  \n",
            "5 6 9 1 3 7 8 3 5 0  \n",
            "1 0 6 3 8 0 8 4 2 2  \n"
          ]
        }
      ]
    },
    {
      "cell_type": "code",
      "source": [
        "for i in (range(10)):\n",
        "    print(random.randint(0,9), end=\" \")"
      ],
      "metadata": {
        "colab": {
          "base_uri": "https://localhost:8080/"
        },
        "id": "ifLjnrjlJiwI",
        "outputId": "5e736fa8-6daf-4f74-edc0-70d4d05df31e"
      },
      "execution_count": 7,
      "outputs": [
        {
          "output_type": "stream",
          "name": "stdout",
          "text": [
            "8 6 9 8 5 7 1 5 9 4 "
          ]
        }
      ]
    },
    {
      "cell_type": "code",
      "source": [
        "for i in (range(10)):\n",
        "  for j in range(10):\n",
        "    if (i%2 !=0):\n",
        "       .join j if i%2 == 0 else '@' for i,j in enumerate(name)\n",
        "    print(random.randint.replace(0,9), end=\" \")\n"
      ],
      "metadata": {
        "colab": {
          "base_uri": "https://localhost:8080/",
          "height": 133
        },
        "id": "Nbdq7Hzn8prT",
        "outputId": "7700d286-2447-481e-e860-3feb5cfe0a23"
      },
      "execution_count": 83,
      "outputs": [
        {
          "output_type": "error",
          "ename": "SyntaxError",
          "evalue": "ignored",
          "traceback": [
            "\u001b[0;36m  File \u001b[0;32m\"<ipython-input-83-5c61a848fb27>\"\u001b[0;36m, line \u001b[0;32m4\u001b[0m\n\u001b[0;31m    .join j if i%2 == 0 else '@' for i,j in enumerate(name)\u001b[0m\n\u001b[0m    ^\u001b[0m\n\u001b[0;31mSyntaxError\u001b[0m\u001b[0;31m:\u001b[0m invalid syntax\n"
          ]
        }
      ]
    },
    {
      "cell_type": "code",
      "source": [
        "for j in range(10):\n",
        "    for i in range(10):\n",
        "      print(random.randint(0,9), end= \" \")\n",
        "    res = sum([random.randint(0,9) \n",
        "        for i in range(10)])\n",
        "    print(\" * \", res)"
      ],
      "metadata": {
        "colab": {
          "base_uri": "https://localhost:8080/"
        },
        "id": "lKD4gyfTK15P",
        "outputId": "1e0d14a5-15bc-4bb9-c4c2-c64e27e9e917"
      },
      "execution_count": 10,
      "outputs": [
        {
          "output_type": "stream",
          "name": "stdout",
          "text": [
            "1 0 4 3 3 0 7 8 2 6  *  38\n",
            "1 4 6 4 7 9 9 6 7 1  *  31\n",
            "3 8 2 0 1 4 7 3 0 4  *  38\n",
            "5 8 2 6 5 9 7 1 3 4  *  37\n",
            "2 2 7 9 7 0 9 0 2 8  *  51\n",
            "4 2 5 3 9 9 3 9 8 4  *  35\n",
            "9 5 4 6 2 6 6 5 6 2  *  44\n",
            "3 3 2 6 0 4 5 7 4 4  *  56\n",
            "5 0 6 8 8 3 9 2 0 0  *  31\n",
            "7 3 2 0 3 4 7 9 9 1  *  37\n"
          ]
        }
      ]
    },
    {
      "cell_type": "code",
      "source": [
        "print(\"*********************\")\n",
        "for j in range(10):\n",
        "    for i in range(10):\n",
        "        print(random.randint(0,9), end= \" \")\n",
        "    print(\"*\")\n",
        "print(\"*********************\")"
      ],
      "metadata": {
        "colab": {
          "base_uri": "https://localhost:8080/"
        },
        "id": "0RZ2b-T43U0Y",
        "outputId": "67ae82a0-1f63-4c19-efb4-40f6a7743788"
      },
      "execution_count": 63,
      "outputs": [
        {
          "output_type": "stream",
          "name": "stdout",
          "text": [
            "*********************\n",
            "9 3 0 7 1 1 0 9 4 6 *\n",
            "7 2 9 1 5 1 1 9 2 1 *\n",
            "0 1 7 9 3 9 7 7 6 8 *\n",
            "4 1 1 6 5 7 1 7 2 5 *\n",
            "0 1 6 6 7 2 6 4 8 6 *\n",
            "1 9 3 6 1 1 5 7 3 2 *\n",
            "6 0 4 7 0 8 7 9 7 4 *\n",
            "8 6 3 0 2 9 6 8 9 8 *\n",
            "1 3 1 8 0 0 6 8 8 0 *\n",
            "8 3 3 2 4 3 4 9 5 0 *\n",
            "*********************\n"
          ]
        }
      ]
    },
    {
      "cell_type": "code",
      "source": [
        "from numpy.random.mtrand import randint\n",
        "for j in range(10):\n",
        "    for i in range(10):\n",
        "      print (random.randint(0,9), end= \" \")\n",
        "      res = sum([random.randint(0,9) for i in range(10)\n",
        "          print(\" * \", res)\n",
        "      res2 = sum([ random.randint(0,9) for j in range(10)\n",
        "        print(\" * \", res2)"
      ],
      "metadata": {
        "colab": {
          "base_uri": "https://localhost:8080/",
          "height": 133
        },
        "id": "YK769Ko3353U",
        "outputId": "db87eb33-675a-4022-d24b-19fe67421a65"
      },
      "execution_count": 87,
      "outputs": [
        {
          "output_type": "error",
          "ename": "SyntaxError",
          "evalue": "ignored",
          "traceback": [
            "\u001b[0;36m  File \u001b[0;32m\"<ipython-input-87-6de1915d7c61>\"\u001b[0;36m, line \u001b[0;32m6\u001b[0m\n\u001b[0;31m    print(\" * \", res)\u001b[0m\n\u001b[0m        ^\u001b[0m\n\u001b[0;31mSyntaxError\u001b[0m\u001b[0;31m:\u001b[0m invalid syntax\n"
          ]
        }
      ]
    }
  ]
}