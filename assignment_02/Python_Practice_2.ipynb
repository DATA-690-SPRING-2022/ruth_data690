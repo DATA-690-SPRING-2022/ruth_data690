{
  "nbformat": 4,
  "nbformat_minor": 0,
  "metadata": {
    "colab": {
      "name": "Python Practice 2.ipynb",
      "provenance": [],
      "collapsed_sections": [],
      "authorship_tag": "ABX9TyOGnhMyv+7HrAalGclSqpg4",
      "include_colab_link": true
    },
    "kernelspec": {
      "name": "python3",
      "display_name": "Python 3"
    },
    "language_info": {
      "name": "python"
    }
  },
  "cells": [
    {
      "cell_type": "markdown",
      "metadata": {
        "id": "view-in-github",
        "colab_type": "text"
      },
      "source": [
        "<a href=\"https://colab.research.google.com/github/ruthiang/Ruth_data690/blob/main/assignment_02/Python_Practice_2.ipynb\" target=\"_parent\"><img src=\"https://colab.research.google.com/assets/colab-badge.svg\" alt=\"Open In Colab\"/></a>"
      ]
    },
    {
      "cell_type": "markdown",
      "source": [
        "# Introduction to Python-Part 2\n",
        "\n",
        "## name: Ruth Iang\n",
        "## Date: 2/8/2022"
      ],
      "metadata": {
        "id": "w5tSV3YZAeTt"
      }
    },
    {
      "cell_type": "code",
      "source": [
        "x = input(\"Please tell me your age\")"
      ],
      "metadata": {
        "colab": {
          "base_uri": "https://localhost:8080/"
        },
        "id": "Qv7VW3K2Ap5T",
        "outputId": "57dacf47-ce41-4409-937a-bb475f4c26b9"
      },
      "execution_count": null,
      "outputs": [
        {
          "name": "stdout",
          "output_type": "stream",
          "text": [
            "Please tell me your age20\n"
          ]
        }
      ]
    },
    {
      "cell_type": "code",
      "source": [
        "print (\"Your age is\", x)"
      ],
      "metadata": {
        "colab": {
          "base_uri": "https://localhost:8080/"
        },
        "id": "1PHu8sNUAufg",
        "outputId": "ea0b82b3-3750-4424-aa03-f94d9216dd3c"
      },
      "execution_count": null,
      "outputs": [
        {
          "output_type": "stream",
          "name": "stdout",
          "text": [
            "Your age is 20\n"
          ]
        }
      ]
    },
    {
      "cell_type": "code",
      "source": [
        "type (x)"
      ],
      "metadata": {
        "colab": {
          "base_uri": "https://localhost:8080/"
        },
        "id": "GB_4EVkgA7GG",
        "outputId": "deed599e-6ce8-449b-e47f-6bf6791087a6"
      },
      "execution_count": null,
      "outputs": [
        {
          "output_type": "execute_result",
          "data": {
            "text/plain": [
              "str"
            ]
          },
          "metadata": {},
          "execution_count": 4
        }
      ]
    },
    {
      "cell_type": "code",
      "source": [
        "y = input(\"What is your name:\")"
      ],
      "metadata": {
        "colab": {
          "base_uri": "https://localhost:8080/"
        },
        "id": "tE9SinRmBIN3",
        "outputId": "764d19eb-33c7-426d-bbd5-99919b5c2df7"
      },
      "execution_count": null,
      "outputs": [
        {
          "name": "stdout",
          "output_type": "stream",
          "text": [
            "What is your name:one\n"
          ]
        }
      ]
    },
    {
      "cell_type": "code",
      "source": [
        "type (y)\n",
        "#input is always string cause python doesn't know what you will type in"
      ],
      "metadata": {
        "colab": {
          "base_uri": "https://localhost:8080/"
        },
        "id": "FNiqlO93BLdv",
        "outputId": "d9a738ef-8e54-4836-ce4d-ea0b89f53d2a"
      },
      "execution_count": null,
      "outputs": [
        {
          "output_type": "execute_result",
          "data": {
            "text/plain": [
              "str"
            ]
          },
          "metadata": {},
          "execution_count": 6
        }
      ]
    },
    {
      "cell_type": "code",
      "source": [
        "x = input(\"your age:\")\n",
        "\n",
        "y = int(x)\n",
        "  \n",
        "if y == 56:\n",
        "  print(\"You and I are the same age\")\n",
        "elif y > 56:\n",
        "  print(\"You are younger than me\")\n",
        "else:\n",
        "  print(\"You are younger\")"
      ],
      "metadata": {
        "colab": {
          "base_uri": "https://localhost:8080/"
        },
        "id": "tfZ5LNDiB1pj",
        "outputId": "b228f91b-f05b-473e-bc66-7f318b1b548e"
      },
      "execution_count": null,
      "outputs": [
        {
          "output_type": "stream",
          "name": "stdout",
          "text": [
            "your age:24\n",
            "You are younger\n"
          ]
        }
      ]
    },
    {
      "cell_type": "code",
      "source": [
        "while True:\n",
        "    x = input(\"your age:\")\n",
        "    try:\n",
        "        y = int(x)\n",
        "        break\n",
        "    except:\n",
        "        continue\n",
        "\n",
        "if y == 56:\n",
        "  print(\"You and I are the same age\")\n",
        "elif y > 56:\n",
        "  print(\"You are younger than me\")\n",
        "else:\n",
        "  print(\"You are younger\")"
      ],
      "metadata": {
        "colab": {
          "base_uri": "https://localhost:8080/"
        },
        "id": "kD1RpeJ-DtNn",
        "outputId": "0495a6af-0fbc-4bc7-af51-943b280ea8e8"
      },
      "execution_count": null,
      "outputs": [
        {
          "output_type": "stream",
          "name": "stdout",
          "text": [
            "your age:ruguf\n",
            "your age:hvn\n",
            "your age:vbjb\n",
            "your age:12\n",
            "You are younger\n"
          ]
        }
      ]
    }
  ]
}