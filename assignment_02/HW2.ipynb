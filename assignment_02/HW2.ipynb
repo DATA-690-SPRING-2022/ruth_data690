{
  "nbformat": 4,
  "nbformat_minor": 0,
  "metadata": {
    "colab": {
      "name": "HW2.ipynb",
      "provenance": [],
      "authorship_tag": "ABX9TyOxUn0PRhEsO4xyUup+oYp8",
      "include_colab_link": true
    },
    "kernelspec": {
      "name": "python3",
      "display_name": "Python 3"
    },
    "language_info": {
      "name": "python"
    }
  },
  "cells": [
    {
      "cell_type": "markdown",
      "metadata": {
        "id": "view-in-github",
        "colab_type": "text"
      },
      "source": [
        "<a href=\"https://colab.research.google.com/github/ruthiang/Ruth_data690/blob/main/assignment_02/HW2.ipynb\" target=\"_parent\"><img src=\"https://colab.research.google.com/assets/colab-badge.svg\" alt=\"Open In Colab\"/></a>"
      ]
    },
    {
      "cell_type": "code",
      "execution_count": 2,
      "metadata": {
        "colab": {
          "base_uri": "https://localhost:8080/",
          "height": 240
        },
        "id": "QF-sO0LHQLxD",
        "outputId": "fc25c443-2c7c-43e8-f3a4-410386258ad2"
      },
      "outputs": [
        {
          "output_type": "error",
          "ename": "TypeError",
          "evalue": "ignored",
          "traceback": [
            "\u001b[0;31m---------------------------------------------------------------------------\u001b[0m",
            "\u001b[0;31mTypeError\u001b[0m                                 Traceback (most recent call last)",
            "\u001b[0;32m<ipython-input-2-81f7ff88c92d>\u001b[0m in \u001b[0;36m<module>\u001b[0;34m()\u001b[0m\n\u001b[1;32m      2\u001b[0m \u001b[0mthe_list\u001b[0m\u001b[0;34m=\u001b[0m\u001b[0;34m[\u001b[0m\u001b[0;34m]\u001b[0m\u001b[0;34m\u001b[0m\u001b[0;34m\u001b[0m\u001b[0m\n\u001b[1;32m      3\u001b[0m \u001b[0;34m\u001b[0m\u001b[0m\n\u001b[0;32m----> 4\u001b[0;31m \u001b[0;32mfor\u001b[0m \u001b[0mi\u001b[0m \u001b[0;32min\u001b[0m \u001b[0mrange\u001b[0m\u001b[0;34m(\u001b[0m\u001b[0;36m0\u001b[0m\u001b[0;34m,\u001b[0m\u001b[0;36m10\u001b[0m\u001b[0;34m)\u001b[0m\u001b[0;34m:\u001b[0m\u001b[0;34m\u001b[0m\u001b[0;34m\u001b[0m\u001b[0m\n\u001b[0m\u001b[1;32m      5\u001b[0m   \u001b[0;32mwhile\u001b[0m \u001b[0;32mTrue\u001b[0m\u001b[0;34m:\u001b[0m\u001b[0;34m\u001b[0m\u001b[0;34m\u001b[0m\u001b[0m\n\u001b[1;32m      6\u001b[0m     \u001b[0mx\u001b[0m \u001b[0;34m=\u001b[0m \u001b[0minput\u001b[0m\u001b[0;34m(\u001b[0m\u001b[0;34m\"Please enter an integer\"\u001b[0m\u001b[0;34m)\u001b[0m\u001b[0;34m\u001b[0m\u001b[0;34m\u001b[0m\u001b[0m\n",
            "\u001b[0;31mTypeError\u001b[0m: 'int' object is not callable"
          ]
        }
      ],
      "source": [
        "# For the list\n",
        "the_list=[]\n",
        "\n",
        "for i in range(0,10):\n",
        "  while True:\n",
        "    x = input(\"Please enter an integer\")\n",
        "    try:\n",
        "      y=int(x)\n",
        "      the_list.append(y)\n",
        "      print(\"got integer:\",y)\n",
        "      break\n",
        "    except:\n",
        "      print(\"You must enter an integer.Please try again\")\n",
        "\n",
        "print(\"You have entered:\", the_list)\n",
        "\n",
        "# For Min and Max\n",
        "max = None\n",
        "min = None\n",
        "\n",
        "for num in the_list:\n",
        "  if min == None or num < min:\n",
        "      min = num\n",
        "for num in the_list:\n",
        "  if max == None or max < num:\n",
        "      max = num\n",
        "\n",
        "print(\"Max:\", max)\n",
        "print(\"Min:\", min)\n",
        "\n",
        "\n",
        "# For Range\n",
        "range = max - min\n",
        "print(\"Range:\", range)\n",
        "\n",
        "\n",
        "# For Total\n",
        "total = 0\n",
        "for i in the_list:\n",
        "  total += i\n",
        "print (\"Total:\", total)\n",
        "\n",
        "# For the Mean\n",
        "mean = total / len (the_list)\n",
        "print(\"Mean:\", mean)\n",
        "\n",
        "#For the Variance \n",
        "variance = sum((i-mean)**2 for i in the_list)/ (len(the_list)-1)\n",
        "print(\"Variance:\" + str(variance))\n",
        "\n",
        "#For the standard deviation\n",
        "standard_deviation = variance ** 0.5\n",
        "print (\"Standard deviation:\" + str(standard_deviation))"
      ]
    }
  ]
}