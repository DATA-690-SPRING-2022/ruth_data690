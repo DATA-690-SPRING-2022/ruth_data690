{
  "nbformat": 4,
  "nbformat_minor": 0,
  "metadata": {
    "colab": {
      "name": "Untitled7.ipynb",
      "provenance": [],
      "authorship_tag": "ABX9TyOxUn0PRhEsO4xyUup+oYp8",
      "include_colab_link": true
    },
    "kernelspec": {
      "name": "python3",
      "display_name": "Python 3"
    },
    "language_info": {
      "name": "python"
    }
  },
  "cells": [
    {
      "cell_type": "markdown",
      "metadata": {
        "id": "view-in-github",
        "colab_type": "text"
      },
      "source": [
        "<a href=\"https://colab.research.google.com/github/ruthiang/Ruth_data690/blob/main/assignment_02/Homework2.ipynb\" target=\"_parent\"><img src=\"https://colab.research.google.com/assets/colab-badge.svg\" alt=\"Open In Colab\"/></a>"
      ]
    },
    {
      "cell_type": "code",
      "execution_count": 1,
      "metadata": {
        "colab": {
          "base_uri": "https://localhost:8080/"
        },
        "id": "IgI_tRy_cEzp",
        "outputId": "fdd82aa5-5ce6-411e-8b6d-2b55d7081189"
      },
      "outputs": [
        {
          "output_type": "stream",
          "name": "stdout",
          "text": [
            "Please enter an integer1\n",
            "got integer: 1\n",
            "Please enter an integer3\n",
            "got integer: 3\n",
            "Please enter an integer5\n",
            "got integer: 5\n",
            "Please enter an integer3\n",
            "got integer: 3\n",
            "Please enter an integer6\n",
            "got integer: 6\n",
            "Please enter an integer4\n",
            "got integer: 4\n",
            "Please enter an integer7\n",
            "got integer: 7\n",
            "Please enter an integer2\n",
            "got integer: 2\n",
            "Please enter an integer8\n",
            "got integer: 8\n",
            "Please enter an integer2\n",
            "got integer: 2\n",
            "You have entered: [1, 3, 5, 3, 6, 4, 7, 2, 8, 2]\n",
            "Max: 8\n",
            "Min: 1\n",
            "Range: 7\n",
            "Total: 41\n",
            "Mean: 4.1\n",
            "Variance:5.433333333333333\n",
            "Standard deviation:2.3309511649396115\n"
          ]
        }
      ],
      "source": [
        "# For the list\n",
        "the_list=[]\n",
        "\n",
        "for i in range(0,10):\n",
        "  while True:\n",
        "    x = input(\"Please enter an integer\")\n",
        "    try:\n",
        "      y=int(x)\n",
        "      the_list.append(y)\n",
        "      print(\"got integer:\",y)\n",
        "      break\n",
        "    except:\n",
        "      print(\"You must enter an integer.Please try again\")\n",
        "\n",
        "print(\"You have entered:\", the_list)\n",
        "\n",
        "# For Min and Max\n",
        "max = None\n",
        "min = None\n",
        "\n",
        "for num in the_list:\n",
        "  if min == None or num < min:\n",
        "      min = num\n",
        "for num in the_list:\n",
        "  if max == None or max < num:\n",
        "      max = num\n",
        "\n",
        "print(\"Max:\", max)\n",
        "print(\"Min:\", min)\n",
        "\n",
        "\n",
        "# For Range\n",
        "range = max - min\n",
        "print(\"Range:\", range)\n",
        "\n",
        "\n",
        "# For Total\n",
        "total = 0\n",
        "for i in the_list:\n",
        "  total += i\n",
        "print (\"Total:\", total)\n",
        "\n",
        "# For the Mean\n",
        "mean = total / len (the_list)\n",
        "print(\"Mean:\", mean)\n",
        "\n",
        "#For the Variance \n",
        "variance = sum((i-mean)**2 for i in the_list)/ (len(the_list)-1)\n",
        "print(\"Variance:\" + str(variance))\n",
        "\n",
        "#For the standard deviation\n",
        "standard_deviation = variance ** 0.5\n",
        "print (\"Standard deviation:\" + str(standard_deviation))"
      ]
    }
  ]
}