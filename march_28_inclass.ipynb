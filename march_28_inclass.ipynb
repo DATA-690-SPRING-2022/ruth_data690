{
  "nbformat": 4,
  "nbformat_minor": 0,
  "metadata": {
    "colab": {
      "name": "march_28_inclass.ipynb",
      "provenance": [],
      "authorship_tag": "ABX9TyNBCMtgvs5k+TF726/fUMFx",
      "include_colab_link": true
    },
    "kernelspec": {
      "name": "python3",
      "display_name": "Python 3"
    },
    "language_info": {
      "name": "python"
    }
  },
  "cells": [
    {
      "cell_type": "markdown",
      "metadata": {
        "id": "view-in-github",
        "colab_type": "text"
      },
      "source": [
        "<a href=\"https://colab.research.google.com/github/ruthiang/Ruth_data690/blob/main/march_28_inclass.ipynb\" target=\"_parent\"><img src=\"https://colab.research.google.com/assets/colab-badge.svg\" alt=\"Open In Colab\"/></a>"
      ]
    },
    {
      "cell_type": "markdown",
      "source": [
        "DATA 606\n",
        "4 teams: A,B,C,D\n",
        "Randomly select a team to present in class."
      ],
      "metadata": {
        "id": "KCXPcFgw0wW5"
      }
    },
    {
      "cell_type": "code",
      "execution_count": 2,
      "metadata": {
        "id": "a-CKGp6N0oZ0"
      },
      "outputs": [],
      "source": [
        "import random"
      ]
    },
    {
      "cell_type": "code",
      "source": [
        "team_list = [\"A\", \"B\", \"C\", \"D\"]\n",
        "random.randint(0,3)   #assign 0 to A, 1-B, 2-C, 3-D\n",
        "print (\"Team\", team_list[random.randint(0,3)], \"is randomly selected to present\")"
      ],
      "metadata": {
        "colab": {
          "base_uri": "https://localhost:8080/"
        },
        "id": "OMbnK39j1CIV",
        "outputId": "e4dcf45e-3e4f-47f8-902b-52f04f570dd2"
      },
      "execution_count": 6,
      "outputs": [
        {
          "output_type": "stream",
          "name": "stdout",
          "text": [
            "Team A is randomly selected to present\n"
          ]
        }
      ]
    },
    {
      "cell_type": "code",
      "source": [
        "team_list = [\"A\", \"B\", \"C\", \"D\"]   \n",
        "print (\"Team\", random.choice(team_list), \"is randomly selected to present\")"
      ],
      "metadata": {
        "colab": {
          "base_uri": "https://localhost:8080/"
        },
        "id": "L7xvXgbe3Fnr",
        "outputId": "d92e5712-b863-4507-d874-58d42fb72f33"
      },
      "execution_count": 8,
      "outputs": [
        {
          "output_type": "stream",
          "name": "stdout",
          "text": [
            "Team A is randomly selected to present\n"
          ]
        }
      ]
    },
    {
      "cell_type": "code",
      "source": [
        "random.choice(team_list)"
      ],
      "metadata": {
        "colab": {
          "base_uri": "https://localhost:8080/",
          "height": 35
        },
        "id": "tLq_RHMN22IB",
        "outputId": "74091a4c-20bf-4bca-ab78-6f7b52de2ea0"
      },
      "execution_count": 7,
      "outputs": [
        {
          "output_type": "execute_result",
          "data": {
            "text/plain": [
              "'C'"
            ],
            "application/vnd.google.colaboratory.intrinsic+json": {
              "type": "string"
            }
          },
          "metadata": {},
          "execution_count": 7
        }
      ]
    },
    {
      "cell_type": "code",
      "source": [
        "team_dict ={\n",
        "    \"A\":0,\n",
        "    \"B\":0,\n",
        "    \"C\":0,\n",
        "    \"D\":0\n",
        "}\n",
        "\n",
        "#range(start, stop, step) range(0,10,1), shortcut is range(10)\n",
        "for i in range(10000):  \n",
        "  team_dict[random.choice(list(team_dict.keys()))] += 1 #iteam_dict[random.choice(team_list)] + 1\n",
        "\n",
        "print(team_dict)"
      ],
      "metadata": {
        "colab": {
          "base_uri": "https://localhost:8080/"
        },
        "id": "1heC220e2P1h",
        "outputId": "cb3ace35-dcb2-4254-c212-14fdf78da7ee"
      },
      "execution_count": 17,
      "outputs": [
        {
          "output_type": "stream",
          "name": "stdout",
          "text": [
            "{'A': 2513, 'B': 2416, 'C': 2527, 'D': 2544}\n"
          ]
        }
      ]
    },
    {
      "cell_type": "code",
      "source": [
        "list(team_dict.keys())"
      ],
      "metadata": {
        "colab": {
          "base_uri": "https://localhost:8080/"
        },
        "id": "OAf76K7H5IDD",
        "outputId": "35b6c3ca-7267-4c3b-d454-2a1e8d4a34df"
      },
      "execution_count": 14,
      "outputs": [
        {
          "output_type": "execute_result",
          "data": {
            "text/plain": [
              "['A', 'B', 'C', 'D']"
            ]
          },
          "metadata": {},
          "execution_count": 14
        }
      ]
    }
  ]
}